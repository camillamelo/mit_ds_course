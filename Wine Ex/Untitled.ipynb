{
 "cells": [
  {
   "cell_type": "code",
   "execution_count": 3,
   "metadata": {},
   "outputs": [
    {
     "name": "stdout",
     "output_type": "stream",
     "text": [
      "Red (1599, 12)\n",
      "White (4898, 12)\n",
      "Total (6497, 13)\n"
     ]
    }
   ],
   "source": [
    "%run ./Load_Wine_data.ipynb"
   ]
  },
  {
   "cell_type": "code",
   "execution_count": 4,
   "metadata": {},
   "outputs": [
    {
     "data": {
      "text/html": [
       "<div>\n",
       "<style scoped>\n",
       "    .dataframe tbody tr th:only-of-type {\n",
       "        vertical-align: middle;\n",
       "    }\n",
       "\n",
       "    .dataframe tbody tr th {\n",
       "        vertical-align: top;\n",
       "    }\n",
       "\n",
       "    .dataframe thead th {\n",
       "        text-align: right;\n",
       "    }\n",
       "</style>\n",
       "<table border=\"1\" class=\"dataframe\">\n",
       "  <thead>\n",
       "    <tr style=\"text-align: right;\">\n",
       "      <th></th>\n",
       "      <th>fixed acidity</th>\n",
       "      <th>volatile acidity</th>\n",
       "      <th>citric acid</th>\n",
       "      <th>residual sugar</th>\n",
       "      <th>chlorides</th>\n",
       "      <th>free sulfur dioxide</th>\n",
       "      <th>total sulfur dioxide</th>\n",
       "      <th>density</th>\n",
       "      <th>pH</th>\n",
       "      <th>sulphates</th>\n",
       "      <th>alcohol</th>\n",
       "      <th>quality</th>\n",
       "      <th>red</th>\n",
       "    </tr>\n",
       "  </thead>\n",
       "  <tbody>\n",
       "    <tr>\n",
       "      <th>0</th>\n",
       "      <td>7.0</td>\n",
       "      <td>0.27</td>\n",
       "      <td>0.36</td>\n",
       "      <td>20.7</td>\n",
       "      <td>0.045</td>\n",
       "      <td>45.0</td>\n",
       "      <td>170.0</td>\n",
       "      <td>1.0010</td>\n",
       "      <td>3.00</td>\n",
       "      <td>0.45</td>\n",
       "      <td>8.8</td>\n",
       "      <td>6</td>\n",
       "      <td>0</td>\n",
       "    </tr>\n",
       "    <tr>\n",
       "      <th>1</th>\n",
       "      <td>6.3</td>\n",
       "      <td>0.30</td>\n",
       "      <td>0.34</td>\n",
       "      <td>1.6</td>\n",
       "      <td>0.049</td>\n",
       "      <td>14.0</td>\n",
       "      <td>132.0</td>\n",
       "      <td>0.9940</td>\n",
       "      <td>3.30</td>\n",
       "      <td>0.49</td>\n",
       "      <td>9.5</td>\n",
       "      <td>6</td>\n",
       "      <td>0</td>\n",
       "    </tr>\n",
       "    <tr>\n",
       "      <th>2</th>\n",
       "      <td>8.1</td>\n",
       "      <td>0.28</td>\n",
       "      <td>0.40</td>\n",
       "      <td>6.9</td>\n",
       "      <td>0.050</td>\n",
       "      <td>30.0</td>\n",
       "      <td>97.0</td>\n",
       "      <td>0.9951</td>\n",
       "      <td>3.26</td>\n",
       "      <td>0.44</td>\n",
       "      <td>10.1</td>\n",
       "      <td>6</td>\n",
       "      <td>0</td>\n",
       "    </tr>\n",
       "    <tr>\n",
       "      <th>3</th>\n",
       "      <td>7.2</td>\n",
       "      <td>0.23</td>\n",
       "      <td>0.32</td>\n",
       "      <td>8.5</td>\n",
       "      <td>0.058</td>\n",
       "      <td>47.0</td>\n",
       "      <td>186.0</td>\n",
       "      <td>0.9956</td>\n",
       "      <td>3.19</td>\n",
       "      <td>0.40</td>\n",
       "      <td>9.9</td>\n",
       "      <td>6</td>\n",
       "      <td>0</td>\n",
       "    </tr>\n",
       "    <tr>\n",
       "      <th>4</th>\n",
       "      <td>7.2</td>\n",
       "      <td>0.23</td>\n",
       "      <td>0.32</td>\n",
       "      <td>8.5</td>\n",
       "      <td>0.058</td>\n",
       "      <td>47.0</td>\n",
       "      <td>186.0</td>\n",
       "      <td>0.9956</td>\n",
       "      <td>3.19</td>\n",
       "      <td>0.40</td>\n",
       "      <td>9.9</td>\n",
       "      <td>6</td>\n",
       "      <td>0</td>\n",
       "    </tr>\n",
       "  </tbody>\n",
       "</table>\n",
       "</div>"
      ],
      "text/plain": [
       "   fixed acidity  volatile acidity  citric acid  residual sugar  chlorides  \\\n",
       "0            7.0              0.27         0.36            20.7      0.045   \n",
       "1            6.3              0.30         0.34             1.6      0.049   \n",
       "2            8.1              0.28         0.40             6.9      0.050   \n",
       "3            7.2              0.23         0.32             8.5      0.058   \n",
       "4            7.2              0.23         0.32             8.5      0.058   \n",
       "\n",
       "   free sulfur dioxide  total sulfur dioxide  density    pH  sulphates  \\\n",
       "0                 45.0                 170.0   1.0010  3.00       0.45   \n",
       "1                 14.0                 132.0   0.9940  3.30       0.49   \n",
       "2                 30.0                  97.0   0.9951  3.26       0.44   \n",
       "3                 47.0                 186.0   0.9956  3.19       0.40   \n",
       "4                 47.0                 186.0   0.9956  3.19       0.40   \n",
       "\n",
       "   alcohol  quality  red  \n",
       "0      8.8        6    0  \n",
       "1      9.5        6    0  \n",
       "2     10.1        6    0  \n",
       "3      9.9        6    0  \n",
       "4      9.9        6    0  "
      ]
     },
     "execution_count": 4,
     "metadata": {},
     "output_type": "execute_result"
    }
   ],
   "source": [
    "df_total.head()\n"
   ]
  },
  {
   "cell_type": "code",
   "execution_count": 5,
   "metadata": {},
   "outputs": [],
   "source": [
    "test_var = ['fixed acidity']"
   ]
  },
  {
   "cell_type": "markdown",
   "metadata": {},
   "source": [
    "# Estimativa de valor médio da fixed acidity"
   ]
  },
  {
   "cell_type": "code",
   "execution_count": 6,
   "metadata": {},
   "outputs": [
    {
     "name": "stdout",
     "output_type": "stream",
     "text": [
      "Acidez media: 7.22\n",
      "\t1)Preço médio amostral ( 200 ): 7.10\n",
      "\t2)Preço médio amostral ( 200 ): 7.31\n",
      "\t3)Preço médio amostral ( 200 ): 7.28\n"
     ]
    }
   ],
   "source": [
    "n=200\n",
    "print('Acidez media: %.2f'%df_total[test_var].mean())\n",
    "print('\\t1)Preço médio amostral (',n,'): %.2f'%df_total.sample(n)[test_var].mean())\n",
    "print('\\t2)Preço médio amostral (',n,'): %.2f'%df_total.sample(n)[test_var].mean())\n",
    "print('\\t3)Preço médio amostral (',n,'): %.2f'%df_total.sample(n)[test_var].mean())"
   ]
  },
  {
   "cell_type": "markdown",
   "metadata": {},
   "source": [
    "# Calculando a distribuição do valor médio da população para diversos sorteios de amostras."
   ]
  },
  {
   "cell_type": "code",
   "execution_count": 11,
   "metadata": {},
   "outputs": [
    {
     "data": {
      "text/plain": [
       "5198"
      ]
     },
     "execution_count": 11,
     "metadata": {},
     "output_type": "execute_result"
    }
   ],
   "source": [
    " perc_test = 0.8\n",
    " n_rows = df_total.shape[0]\n",
    " train_data = round(perc_test * n_rows)\n",
    " train_data"
   ]
  },
  {
   "cell_type": "code",
   "execution_count": 12,
   "metadata": {},
   "outputs": [
    {
     "name": "stdout",
     "output_type": "stream",
     "text": [
      "Valor médio da amostra  :  7.215994924999999\n",
      "Valor médio da população:  7.215307064799138\n",
      "Erro padrão da amostra  :  0.08954835938192483\n",
      "Erro padrão estimado    :  0.09166465495231997\n"
     ]
    },
    {
     "data": {
      "text/plain": [
       "<matplotlib.legend.Legend at 0x236eea43748>"
      ]
     },
     "execution_count": 12,
     "metadata": {},
     "output_type": "execute_result"
    },
    {
     "data": {
      "image/png": "[encoded data removed]",
      "text/plain": [
       "<Figure size 432x288 with 1 Axes>"
      ]
     },
     "metadata": {
      "needs_background": "light"
     },
     "output_type": "display_data"
    }
   ],
   "source": [
    "n_test = 10000\n",
    "n = 200\n",
    "mean_values = []\n",
    "for i in range(n_test):\n",
    "    mean_values.append(df_total.sample(n)[test_var].mean())\n",
    "ref_mean_samples = np.array(mean_values)\n",
    "\n",
    "print('Valor médio da amostra  : ', ref_mean_samples.mean())\n",
    "print('Valor médio da população: ', np.array(df_total[test_var]).mean())\n",
    "print('Erro padrão da amostra  : ', ref_mean_samples.std())\n",
    "print('Erro padrão estimado    : ', np.array(df_total[test_var]).std() / np.sqrt(n))\n",
    "\n",
    "# Plot\n",
    "ax = sns.distplot(ref_mean_samples)\n",
    "ax.plot([df_total[test_var].mean(), df_total[test_var].mean()], ax.axis()[2:],\n",
    "        '--k', label='Valor Médio')\n",
    "ax.legend()\n"
   ]
  },
  {
   "cell_type": "markdown",
   "metadata": {},
   "source": [
    "\n",
    "# Visualizando o impacto do tamanho da amostra para a estimativa do valor médio.\n"
   ]
  },
  {
   "cell_type": "code",
   "execution_count": 13,
   "metadata": {},
   "outputs": [
    {
     "data": {
      "text/plain": [
       "<matplotlib.legend.Legend at 0x236ef434388>"
      ]
     },
     "execution_count": 13,
     "metadata": {},
     "output_type": "execute_result"
    },
    {
     "data": {
      "image/png": "[encoded data removed]",
      "text/plain": [
       "<Figure size 432x288 with 1 Axes>"
      ]
     },
     "metadata": {
      "needs_background": "light"
     },
     "output_type": "display_data"
    }
   ],
   "source": [
    "n_test = 1000\n",
    "\n",
    "for ntrial in [10, 100, 200, 500, 1000]:\n",
    "    mean_values = []\n",
    "    for i in range(n_test):\n",
    "        mean_values.append(df_total.sample(ntrial)[test_var].mean())\n",
    "    # Plot\n",
    "    ax = sns.distplot(mean_values, label='#amostra: %i'%ntrial)\n",
    "ax.plot([df_total[test_var].mean(), df_total[test_var].mean()], ax.axis()[2:],\n",
    "        '--k', label='Valor Médio')\n",
    "ax.legend()\n"
   ]
  },
  {
   "cell_type": "markdown",
   "metadata": {},
   "source": [
    "\n",
    "\n",
    "# Visualizando o impacto da quantidade de testes para a estimativa do valor médio da população.\n"
   ]
  },
  {
   "cell_type": "code",
   "execution_count": 14,
   "metadata": {},
   "outputs": [
    {
     "data": {
      "text/plain": [
       "<matplotlib.legend.Legend at 0x236ed625e48>"
      ]
     },
     "execution_count": 14,
     "metadata": {},
     "output_type": "execute_result"
    },
    {
     "data": {
      "image/png": "[encoded data removed]",
      "text/plain": [
       "<Figure size 432x288 with 1 Axes>"
      ]
     },
     "metadata": {
      "needs_background": "light"
     },
     "output_type": "display_data"
    }
   ],
   "source": [
    "ntrial = 100\n",
    "\n",
    "for n_test in [10, 100, 500, 1000, 10000]:\n",
    "    mean_values = []\n",
    "    for i in range(n_test):\n",
    "        mean_values.append(df_total.sample(ntrial)[test_var].mean())\n",
    "    # Plot\n",
    "    ax = sns.distplot(mean_values, label='#test: %i'%n_test)\n",
    "ax.plot([df_total[test_var].mean(), df_total[test_var].mean()], ax.axis()[2:],\n",
    "        '--k', label='Valor Médio')\n",
    "ax.legend()"
   ]
  },
  {
   "cell_type": "code",
   "execution_count": 15,
   "metadata": {},
   "outputs": [
    {
     "name": "stdout",
     "output_type": "stream",
     "text": [
      "Valor medio populacao :  [7.21530706]\n",
      "Media amostral        : 7.215994924999999\n",
      "Intervalo de confianca: [[7.18378244]\n",
      " [7.24683169]]\n"
     ]
    },
    {
     "data": {
      "text/plain": [
       "<matplotlib.legend.Legend at 0x236ef875408>"
      ]
     },
     "execution_count": 15,
     "metadata": {},
     "output_type": "execute_result"
    },
    {
     "data": {
      "image/png": "[encoded data removed]",
      "text/plain": [
       "<Figure size 432x288 with 1 Axes>"
      ]
     },
     "metadata": {
      "needs_background": "light"
     },
     "output_type": "display_data"
    }
   ],
   "source": [
    "mean_val = df_total[test_var].mean()\n",
    "std_error = df_total[test_var].std() / np.sqrt(df_total.shape[0])\n",
    "ci = (mean_val - std_error * 1.96, mean_val + std_error * 1.96)\n",
    "\n",
    "\n",
    "print('Valor medio populacao : ',np.array(mean_val))\n",
    "print('Media amostral        :', np.array(ref_mean_samples.mean()))\n",
    "print('Intervalo de confianca:',np.array(ci))\n",
    "\n",
    "ax = sns.distplot(ref_mean_samples)\n",
    "ax.plot([mean_val, mean_val], ax.axis()[2:], '-k', label='Valor Médio')\n",
    "ax.plot([ci[0], ci[0]], ax.axis()[2:], '--k', label='Intervalo Confiança')\n",
    "ax.plot([ci[1], ci[1]], ax.axis()[2:], '--k',)\n",
    "ax.legend()\n",
    "\n"
   ]
  },
  {
   "cell_type": "markdown",
   "metadata": {},
   "source": [
    "# Teste de Hipoteses"
   ]
  },
  {
   "cell_type": "markdown",
   "metadata": {},
   "source": [
    "## Por Intervalo de Confianca"
   ]
  },
  {
   "cell_type": "code",
   "execution_count": 16,
   "metadata": {},
   "outputs": [
    {
     "ename": "ValueError",
     "evalue": "operands could not be broadcast together with shapes (200,1) (2,200) ",
     "output_type": "error",
     "traceback": [
      "\u001b[1;31m---------------------------------------------------------------------------\u001b[0m",
      "\u001b[1;31mValueError\u001b[0m                                Traceback (most recent call last)",
      "\u001b[1;32m<ipython-input-16-8123ec2d00d9>\u001b[0m in \u001b[0;36m<module>\u001b[1;34m\u001b[0m\n\u001b[0;32m     12\u001b[0m \u001b[0mmean_values\u001b[0m \u001b[1;33m=\u001b[0m \u001b[0mnp\u001b[0m\u001b[1;33m.\u001b[0m\u001b[0marray\u001b[0m\u001b[1;33m(\u001b[0m\u001b[0mmean_values\u001b[0m\u001b[1;33m)\u001b[0m\u001b[1;33m\u001b[0m\u001b[1;33m\u001b[0m\u001b[0m\n\u001b[0;32m     13\u001b[0m \u001b[0mconf_values\u001b[0m \u001b[1;33m=\u001b[0m \u001b[0mnp\u001b[0m\u001b[1;33m.\u001b[0m\u001b[0marray\u001b[0m\u001b[1;33m(\u001b[0m\u001b[0mconf_values\u001b[0m\u001b[1;33m)\u001b[0m\u001b[1;33m.\u001b[0m\u001b[0mT\u001b[0m\u001b[1;33m\u001b[0m\u001b[1;33m\u001b[0m\u001b[0m\n\u001b[1;32m---> 14\u001b[1;33m idx = ((data[test_var].mean() < (mean_values - conf_values[0])) |  #?????????????????\n\u001b[0m\u001b[0;32m     15\u001b[0m        (data[test_var].mean() > (mean_values + conf_values[1])))\n\u001b[0;32m     16\u001b[0m \u001b[0mx_trials\u001b[0m \u001b[1;33m=\u001b[0m \u001b[0mnp\u001b[0m\u001b[1;33m.\u001b[0m\u001b[0marange\u001b[0m\u001b[1;33m(\u001b[0m\u001b[0mn_test\u001b[0m\u001b[1;33m)\u001b[0m\u001b[1;33m\u001b[0m\u001b[1;33m\u001b[0m\u001b[0m\n",
      "\u001b[1;31mValueError\u001b[0m: operands could not be broadcast together with shapes (200,1) (2,200) "
     ]
    }
   ],
   "source": [
    "n_test = 200\n",
    "ntrial = 200 # tamanho da amostra\n",
    "data = df_total\n",
    "mean_values = []\n",
    "conf_values = []\n",
    "for i in range(n_test):\n",
    "    data_sample = data.sample(ntrial)[test_var]\n",
    "    mean_values.append(data_sample.mean())\n",
    "    standard_error = data_sample.std() / np.sqrt(ntrial)\n",
    "    conf_values.append([standard_error*1.96, standard_error*-1.96])\n",
    "\n",
    "mean_values = np.array(mean_values)\n",
    "conf_values = np.array(conf_values).T \n",
    "idx = ((data[test_var].mean() < (mean_values - conf_values[0])) |  #?????????????????\n",
    "       (data[test_var].mean() > (mean_values + conf_values[1])))\n",
    "x_trials = np.arange(n_test)\n",
    "\n",
    "print('Número de sorteios fora do I.C.   : ', idx.sum(), 'em', idx.shape[0])\n",
    "print('Proporção de sorteios fora do I.C.: %.1f'%(idx.sum()/idx.shape[0] * 100),'%')\n",
    "\n",
    "# Plot\n",
    "plt.figure(figsize=(12,4))\n",
    "plt.errorbar(x_trials, mean_values, yerr=conf_values, marker='o')\n",
    "plt.errorbar(x_trials[idx], mean_values[idx], yerr=conf_values[:, idx],\n",
    "             marker='*',color='r', linestyle='', label='Fora do I.C.')\n",
    "plt.plot([0, n_test], [data[test_var].mean(), data[test_var].mean()],\n",
    "        '-k',lw=3, label='Valor Médio')\n",
    "plt.xlabel('Sorteio')\n",
    "plt.ylabel(test_var)\n",
    "plt.legend()"
   ]
  },
  {
   "cell_type": "code",
   "execution_count": null,
   "metadata": {},
   "outputs": [],
   "source": [
    "mean_values.shape"
   ]
  },
  {
   "cell_type": "markdown",
   "metadata": {},
   "source": [
    "# Regressão Logística"
   ]
  },
  {
   "cell_type": "code",
   "execution_count": 17,
   "metadata": {},
   "outputs": [
    {
     "name": "stderr",
     "output_type": "stream",
     "text": [
      "C:\\Users\\OctavioLuisElliotFre\\anaconda3\\lib\\site-packages\\sklearn\\linear_model\\_logistic.py:940: ConvergenceWarning: lbfgs failed to converge (status=1):\n",
      "STOP: TOTAL NO. of ITERATIONS REACHED LIMIT.\n",
      "\n",
      "Increase the number of iterations (max_iter) or scale the data as shown in:\n",
      "    https://scikit-learn.org/stable/modules/preprocessing.html\n",
      "Please also refer to the documentation for alternative solver options:\n",
      "    https://scikit-learn.org/stable/modules/linear_model.html#logistic-regression\n",
      "  extra_warning_msg=_LOGISTIC_SOLVER_CONVERGENCE_MSG)\n"
     ]
    }
   ],
   "source": [
    "class_var = ['fixed acidity']\n",
    "target_var = ['quality']\n",
    "\n",
    "n_classes = data[target_var].nunique().values[0]\n",
    "\n",
    "x_data = df_total[class_var].copy().values\n",
    "y_data = df_total[target_var].copy().values\n",
    "\n",
    "if n_classes ==2:\n",
    "\n",
    "    y_data[y_data <= 5] = 0\n",
    "    x_data[z_data  > 5] = 1\n",
    "    \n",
    "cat_encoder = preprocessing.OrdinalEncoder()\n",
    "cat_encoder.fit(y_data)\n",
    "y_data = cat_encoder.transform(y_data)\n",
    "y_data = y_data.reshape(-1)\n",
    "\n",
    "model = lm.LogisticRegression(solver='lbfgs')\n",
    "model.fit(x_data, y_data)\n",
    "\n",
    "if n_classes == 2:\n",
    "    y_hat = model.predict_proba(x_data)[:,1]\n",
    "else:\n",
    "    y_hat = model.predict_proba(x_data)\n",
    "    \n",
    "    "
   ]
  },
  {
   "cell_type": "code",
   "execution_count": 19,
   "metadata": {},
   "outputs": [
    {
     "data": {
      "text/plain": [
       "0.14285714285714285"
      ]
     },
     "execution_count": 19,
     "metadata": {},
     "output_type": "execute_result"
    }
   ],
   "source": [
    "y_hat.mean()"
   ]
  },
  {
   "cell_type": "code",
   "execution_count": 23,
   "metadata": {},
   "outputs": [
    {
     "data": {
      "text/plain": [
       "106"
      ]
     },
     "execution_count": 23,
     "metadata": {},
     "output_type": "execute_result"
    }
   ],
   "source": [
    "data[test_var].nunique().values[0]"
   ]
  },
  {
   "cell_type": "code",
   "execution_count": null,
   "metadata": {},
   "outputs": [],
   "source": [
    "test_var"
   ]
  }
 ],
 "metadata": {
  "kernelspec": {
   "display_name": "Python 3",
   "language": "python",
   "name": "python3"
  },
  "language_info": {
   "codemirror_mode": {
    "name": "ipython",
    "version": 3
   },
   "file_extension": ".py",
   "mimetype": "text/x-python",
   "name": "python",
   "nbconvert_exporter": "python",
   "pygments_lexer": "ipython3",
   "version": "3.7.6"
  }
 },
 "nbformat": 4,
 "nbformat_minor": 4
}
