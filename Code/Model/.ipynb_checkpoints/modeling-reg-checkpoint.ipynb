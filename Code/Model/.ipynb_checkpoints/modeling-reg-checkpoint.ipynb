{
 "cells": [
  {
   "cell_type": "code",
   "execution_count": 1,
   "metadata": {},
   "outputs": [],
   "source": [
    "import pandas as pd\n",
    "import seaborn as sns\n",
    "import numpy as np\n",
    "import matplotlib.pyplot as plt\n",
    "\n",
    "import sklearn\n",
    "from sklearn import linear_model\n",
    "from sklearn.model_selection import train_test_split\n",
    "from sklearn.metrics import mean_squared_error\n",
    "from sklearn.model_selection import KFold \n",
    "from sklearn.model_selection import cross_val_score \n",
    "from sklearn.model_selection import cross_val_predict\n",
    "\n",
    "datapath = '../../Data/Processed/titanic_reg_model.parquet'\n",
    "savefile = '../../Data/Modeling/idade.csv'"
   ]
  },
  {
   "cell_type": "markdown",
   "metadata": {},
   "source": [
    "# Carga dos Dados "
   ]
  },
  {
   "cell_type": "code",
   "execution_count": 2,
   "metadata": {},
   "outputs": [
    {
     "name": "stdout",
     "output_type": "stream",
     "text": [
      "shape: (1309, 13)\n",
      "columns: Index(['Sexo', 'Idade', 'IrmaosCasal', 'PaisFilhos', 'Tarifa', 'SolteiraPais',\n",
      "       'Classe_2', 'Classe_3', 'PortoEmbarque_Q', 'PortoEmbarque_S',\n",
      "       'Titulo_Casada', 'Titulo_Menino', 'Titulo_Solteira'],\n",
      "      dtype='object')\n"
     ]
    }
   ],
   "source": [
    "df = pd.read_parquet(datapath)\n",
    "\n",
    "print('shape:', df.shape)\n",
    "print('columns:', df.columns)\n"
   ]
  },
  {
   "cell_type": "code",
   "execution_count": 3,
   "metadata": {},
   "outputs": [
    {
     "name": "stdout",
     "output_type": "stream",
     "text": [
      "shape do treino: (1046, 13)\n",
      "shape do teste: (263, 12)\n"
     ]
    }
   ],
   "source": [
    "trainIdade = df.dropna()\n",
    "testIdade = df.loc[df['Idade'].isnull()].drop('Idade', axis=1)\n",
    "\n",
    "print('shape do treino:', trainIdade.shape)\n",
    "print('shape do teste:', testIdade.shape)"
   ]
  },
  {
   "cell_type": "markdown",
   "metadata": {},
   "source": [
    "# Treino / Teste "
   ]
  },
  {
   "cell_type": "code",
   "execution_count": 4,
   "metadata": {},
   "outputs": [
    {
     "data": {
      "text/plain": [
       "((1046, 12), (1046,))"
      ]
     },
     "execution_count": 4,
     "metadata": {},
     "output_type": "execute_result"
    }
   ],
   "source": [
    "X = trainIdade.drop('Idade', axis=1)\n",
    "y = trainIdade['Idade']\n",
    "\n",
    "X.shape, y.shape"
   ]
  },
  {
   "cell_type": "code",
   "execution_count": 5,
   "metadata": {},
   "outputs": [
    {
     "name": "stdout",
     "output_type": "stream",
     "text": [
      "shape do treino: (732, 12) (732,)\n",
      "shape do teste: (314, 12) (314,)\n"
     ]
    }
   ],
   "source": [
    "X_train, X_test, y_train, y_test = train_test_split(X,\n",
    "                                                    y,\n",
    "                                                    test_size=0.3,\n",
    "                                                    random_state=30)\n",
    "\n",
    "print('shape do treino:', X_train.shape, y_train.shape)\n",
    "print('shape do teste:', X_test.shape, y_test.shape)"
   ]
  },
  {
   "cell_type": "markdown",
   "metadata": {},
   "source": [
    "# Treinando o modelo"
   ]
  },
  {
   "cell_type": "code",
   "execution_count": 6,
   "metadata": {},
   "outputs": [
    {
     "data": {
      "text/plain": [
       "0.4841324849530547"
      ]
     },
     "execution_count": 6,
     "metadata": {},
     "output_type": "execute_result"
    }
   ],
   "source": [
    "lm = linear_model.LinearRegression(normalize=True)\n",
    "\n",
    "lm.fit(X_train,y_train)\n",
    "\n",
    "lm.score(X_test, y_test)"
   ]
  },
  {
   "cell_type": "code",
   "execution_count": 7,
   "metadata": {},
   "outputs": [
    {
     "data": {
      "text/plain": [
       "PassengerId\n",
       "1203    22.0\n",
       "4       35.0\n",
       "691     31.0\n",
       "845     17.0\n",
       "938     45.0\n",
       "        ... \n",
       "608     27.0\n",
       "41      40.0\n",
       "10      14.0\n",
       "903     46.0\n",
       "867     27.0\n",
       "Name: Idade, Length: 314, dtype: float64"
      ]
     },
     "execution_count": 7,
     "metadata": {},
     "output_type": "execute_result"
    }
   ],
   "source": [
    "y_test"
   ]
  },
  {
   "cell_type": "markdown",
   "metadata": {},
   "source": [
    "# Predição da Idade"
   ]
  },
  {
   "cell_type": "code",
   "execution_count": 8,
   "metadata": {},
   "outputs": [
    {
     "data": {
      "text/plain": [
       "(314,)"
      ]
     },
     "execution_count": 8,
     "metadata": {},
     "output_type": "execute_result"
    }
   ],
   "source": [
    "pred = lm.predict(X_test)\n",
    "pred.shape"
   ]
  },
  {
   "cell_type": "markdown",
   "metadata": {},
   "source": [
    "# Score e Erros"
   ]
  },
  {
   "cell_type": "code",
   "execution_count": 9,
   "metadata": {},
   "outputs": [
    {
     "data": {
      "text/plain": [
       "0.4841324849530547"
      ]
     },
     "execution_count": 9,
     "metadata": {},
     "output_type": "execute_result"
    }
   ],
   "source": [
    "lm.score(X_test, y_test)"
   ]
  },
  {
   "cell_type": "markdown",
   "metadata": {},
   "source": [
    "### Verificando MSE e RMSE\n"
   ]
  },
  {
   "cell_type": "code",
   "execution_count": 10,
   "metadata": {},
   "outputs": [
    {
     "data": {
      "text/plain": [
       "105.16330699431596"
      ]
     },
     "execution_count": 10,
     "metadata": {},
     "output_type": "execute_result"
    }
   ],
   "source": [
    "mse = mean_squared_error(y_test, pred)\n",
    "mse"
   ]
  },
  {
   "cell_type": "code",
   "execution_count": 11,
   "metadata": {},
   "outputs": [
    {
     "data": {
      "text/plain": [
       "10.254916235363211"
      ]
     },
     "execution_count": 11,
     "metadata": {},
     "output_type": "execute_result"
    }
   ],
   "source": [
    "rmse = np.sqrt(mse)\n",
    "rmse"
   ]
  },
  {
   "cell_type": "markdown",
   "metadata": {},
   "source": [
    "# Visualizar residuos com Scater Plot"
   ]
  },
  {
   "cell_type": "code",
   "execution_count": 13,
   "metadata": {},
   "outputs": [
    {
     "data": {
      "image/png": "[encoded data removed]",
      "text/plain": [
       "<Figure size 432x288 with 1 Axes>"
      ]
     },
     "metadata": {
      "needs_background": "light"
     },
     "output_type": "display_data"
    }
   ],
   "source": [
    "plt.scatter(y_test, pred)\n",
    "plt.show()"
   ]
  },
  {
   "cell_type": "markdown",
   "metadata": {},
   "source": [
    "# Aplicar Modelo nos dados nulos"
   ]
  },
  {
   "cell_type": "code",
   "execution_count": 14,
   "metadata": {},
   "outputs": [
    {
     "data": {
      "text/plain": [
       "(263, 12)"
      ]
     },
     "execution_count": 14,
     "metadata": {},
     "output_type": "execute_result"
    }
   ],
   "source": [
    "testIdade.shape"
   ]
  },
  {
   "cell_type": "code",
   "execution_count": 15,
   "metadata": {},
   "outputs": [
    {
     "data": {
      "text/plain": [
       "array([32.00577269, 33.09888976, 27.53649035, 25.36742702, 25.63024035,\n",
       "       28.44875133, 41.97399035, 25.63024035, 25.36742702, 25.36742702,\n",
       "       28.44875133, 31.94419883, 25.63024035, 25.24427929, 42.18031466,\n",
       "       39.09899035,  0.40189176, 28.44875133, 28.44875133, 25.63024035,\n",
       "       28.44875133, 28.44875133, 28.44875133, 28.44875133, 25.56774035,\n",
       "       28.44875133, 32.00577269,  4.97399035, 29.39586535, 28.44875133,\n",
       "       28.44875133,  3.97889825, 45.27086535, 42.18031466,  3.36006835,\n",
       "        8.55211535, 30.01756545, 42.18031466, 34.11461535, 32.00577269,\n",
       "       25.63024035, 29.80955885, 31.94419883, 28.44875133,  7.92711535,\n",
       "       22.06774035, 18.92711535, 25.56774035, 28.44875133, 41.27086535,\n",
       "       32.00577269, 25.63024035, 42.18031466, 25.63024035, 33.09888976,\n",
       "       42.18031466, 39.09899035, 42.18031466, 25.63024035, 31.88262497,\n",
       "       30.28649035, 28.44875133, 33.48961535, 29.80955885, 25.50524035,\n",
       "       45.05211535, 28.44875133, 30.55211535, 42.18031466, 25.36742702,\n",
       "       25.63024035, 25.63024035, 31.94419883, 27.53649035, 25.63024035,\n",
       "       41.20836535, 28.44875133, 32.00577269,  7.92711535, 28.44875133,\n",
       "       32.00577269, 33.09888976, 30.61461535, 25.36742702, 28.44875133,\n",
       "       32.00577269, 30.55211535, 28.44875133, 28.38717747, 28.44875133,\n",
       "       44.28649035, 32.00577269, 28.44875133, 33.09888976, 32.00577269,\n",
       "       28.44875133, 42.18031466, 33.09888976,  7.92711535, 28.38717747,\n",
       "       25.36742702, 28.44875133, 25.63024035, 42.18031466, 28.44875133,\n",
       "       32.00577269, 25.36742702, 25.36742702, 43.71045345, 25.36742702,\n",
       "       29.39586535, 28.44875133, 30.01756545, 32.00577269, 40.62912914,\n",
       "       32.00577269, 28.44875133, 22.06774035, 25.36742702, 25.63024035,\n",
       "       27.47399035, 25.36742702, 28.44875133, 12.61461535, 26.72399035,\n",
       "       25.36742702, 28.44875133, 42.18031466, 28.44875133, 25.56774035,\n",
       "       32.00577269, 32.00577269, 42.18031466, 28.38717747, 28.44875133,\n",
       "       28.44875133, 28.44875133, 25.63024035, 28.44875133, 28.44875133,\n",
       "       44.28649035, 33.09888976, 25.63024035, 28.44875133, 25.63024035,\n",
       "        0.40189176, 42.18031466, 32.00577269, 25.63024035, 33.09888976,\n",
       "       28.44875133, 28.44875133, 42.18031466, 28.44875133, 39.09899035,\n",
       "       31.94419883, 25.36742702, 32.00577269, 32.00577269, 30.24057589,\n",
       "       32.00577269,  8.55211535, 39.09899035, 42.18031466, 32.00577269,\n",
       "       28.44875133, 32.00577269, 25.36742702, 28.44875133, 39.09899035,\n",
       "       29.80955885, 41.20836535, 25.36742702,  8.55211535, 28.44875133,\n",
       "       28.44875133,  8.98961535, 28.44875133, 44.34899035, 25.24427929,\n",
       "       32.41149035, 22.06774035, 28.44875133, 42.18031466, 32.00577269,\n",
       "       30.01756545, 28.38717747, 35.27086535, 28.44875133, 28.44875133,\n",
       "       36.65591112, 25.30585316, 25.63024035, 28.44875133, 28.44875133,\n",
       "       32.00577269, 32.00577269, 28.44875133, 25.63024035, 25.36742702,\n",
       "       31.94419883, 32.00577269, 25.50524035, 34.31774035, 25.30585316,\n",
       "       42.18031466, 42.18031466, 25.36742702, 25.63024035, 28.44875133,\n",
       "       41.27086535, 28.44875133, 25.36742702, 32.00577269,  8.55211535,\n",
       "       42.18031466, 30.61461535, 25.63024035, 39.09899035, 28.44875133,\n",
       "       25.63024035, 28.44875133, 29.39586535, 25.63024035, 32.00577269,\n",
       "       28.44875133,  4.40991528, 27.47399035, 28.44875133, 32.00577269,\n",
       "       28.44875133, 42.18031466, 28.44875133, 22.06774035, 32.00577269,\n",
       "       25.56774035, 25.36742702, 25.63024035, 28.44875133, 25.36742702,\n",
       "       28.44875133, 42.18031466, 25.36742702, 25.24427929, 30.01756545,\n",
       "       25.63024035, 28.44875133, 25.36742702, -0.46323359, 36.72747037,\n",
       "        3.48321607, 28.44875133, 32.00577269, 38.89586535, 25.30585316,\n",
       "       32.00577269, 30.61461535, 33.09888976, 25.63024035, 25.63024035,\n",
       "       28.44875133, 28.44875133,  0.40189176])"
      ]
     },
     "execution_count": 15,
     "metadata": {},
     "output_type": "execute_result"
    }
   ],
   "source": [
    "predIdade = lm.predict(testIdade)\n",
    "predIdade"
   ]
  },
  {
   "cell_type": "code",
   "execution_count": 16,
   "metadata": {},
   "outputs": [
    {
     "data": {
      "text/plain": [
       "(263,)"
      ]
     },
     "execution_count": 16,
     "metadata": {},
     "output_type": "execute_result"
    }
   ],
   "source": [
    "predIdade.shape"
   ]
  },
  {
   "cell_type": "markdown",
   "metadata": {},
   "source": [
    "# Criando coluna Idade com as prediçoes"
   ]
  },
  {
   "cell_type": "code",
   "execution_count": 17,
   "metadata": {},
   "outputs": [
    {
     "data": {
      "text/plain": [
       "Sexo               0\n",
       "IrmaosCasal        0\n",
       "PaisFilhos         0\n",
       "Tarifa             0\n",
       "SolteiraPais       0\n",
       "Classe_2           0\n",
       "Classe_3           0\n",
       "PortoEmbarque_Q    0\n",
       "PortoEmbarque_S    0\n",
       "Titulo_Casada      0\n",
       "Titulo_Menino      0\n",
       "Titulo_Solteira    0\n",
       "Idade              0\n",
       "dtype: int64"
      ]
     },
     "execution_count": 17,
     "metadata": {},
     "output_type": "execute_result"
    }
   ],
   "source": [
    "testIdade['Idade'] = predIdade\n",
    "testIdade.isnull().sum()"
   ]
  },
  {
   "cell_type": "markdown",
   "metadata": {},
   "source": [
    "# Concatenando os dados de volta no DF"
   ]
  },
  {
   "cell_type": "code",
   "execution_count": 18,
   "metadata": {},
   "outputs": [
    {
     "name": "stdout",
     "output_type": "stream",
     "text": [
      "<class 'pandas.core.frame.DataFrame'>\n",
      "Int64Index: 1309 entries, 1 to 1309\n",
      "Data columns (total 13 columns):\n",
      " #   Column           Non-Null Count  Dtype  \n",
      "---  ------           --------------  -----  \n",
      " 0   Sexo             1309 non-null   int64  \n",
      " 1   Idade            1309 non-null   float64\n",
      " 2   IrmaosCasal      1309 non-null   int64  \n",
      " 3   PaisFilhos       1309 non-null   int64  \n",
      " 4   Tarifa           1309 non-null   float64\n",
      " 5   SolteiraPais     1309 non-null   int64  \n",
      " 6   Classe_2         1309 non-null   uint8  \n",
      " 7   Classe_3         1309 non-null   uint8  \n",
      " 8   PortoEmbarque_Q  1309 non-null   uint8  \n",
      " 9   PortoEmbarque_S  1309 non-null   uint8  \n",
      " 10  Titulo_Casada    1309 non-null   uint8  \n",
      " 11  Titulo_Menino    1309 non-null   uint8  \n",
      " 12  Titulo_Solteira  1309 non-null   uint8  \n",
      "dtypes: float64(2), int64(4), uint8(7)\n",
      "memory usage: 80.5 KB\n"
     ]
    }
   ],
   "source": [
    "idade = pd.concat([trainIdade, testIdade], sort = False)\n",
    "\n",
    "idade.info()"
   ]
  },
  {
   "cell_type": "code",
   "execution_count": 19,
   "metadata": {},
   "outputs": [
    {
     "data": {
      "text/html": [
       "<div>\n",
       "<style scoped>\n",
       "    .dataframe tbody tr th:only-of-type {\n",
       "        vertical-align: middle;\n",
       "    }\n",
       "\n",
       "    .dataframe tbody tr th {\n",
       "        vertical-align: top;\n",
       "    }\n",
       "\n",
       "    .dataframe thead th {\n",
       "        text-align: right;\n",
       "    }\n",
       "</style>\n",
       "<table border=\"1\" class=\"dataframe\">\n",
       "  <thead>\n",
       "    <tr style=\"text-align: right;\">\n",
       "      <th></th>\n",
       "      <th>IdPassageiro</th>\n",
       "      <th>Idade</th>\n",
       "    </tr>\n",
       "    <tr>\n",
       "      <th>PassengerId</th>\n",
       "      <th></th>\n",
       "      <th></th>\n",
       "    </tr>\n",
       "  </thead>\n",
       "  <tbody>\n",
       "    <tr>\n",
       "      <th>1</th>\n",
       "      <td>1</td>\n",
       "      <td>22.000000</td>\n",
       "    </tr>\n",
       "    <tr>\n",
       "      <th>2</th>\n",
       "      <td>2</td>\n",
       "      <td>38.000000</td>\n",
       "    </tr>\n",
       "    <tr>\n",
       "      <th>3</th>\n",
       "      <td>3</td>\n",
       "      <td>26.000000</td>\n",
       "    </tr>\n",
       "    <tr>\n",
       "      <th>4</th>\n",
       "      <td>4</td>\n",
       "      <td>35.000000</td>\n",
       "    </tr>\n",
       "    <tr>\n",
       "      <th>5</th>\n",
       "      <td>5</td>\n",
       "      <td>35.000000</td>\n",
       "    </tr>\n",
       "    <tr>\n",
       "      <th>...</th>\n",
       "      <td>...</td>\n",
       "      <td>...</td>\n",
       "    </tr>\n",
       "    <tr>\n",
       "      <th>1300</th>\n",
       "      <td>1300</td>\n",
       "      <td>25.630240</td>\n",
       "    </tr>\n",
       "    <tr>\n",
       "      <th>1302</th>\n",
       "      <td>1302</td>\n",
       "      <td>25.630240</td>\n",
       "    </tr>\n",
       "    <tr>\n",
       "      <th>1305</th>\n",
       "      <td>1305</td>\n",
       "      <td>28.448751</td>\n",
       "    </tr>\n",
       "    <tr>\n",
       "      <th>1308</th>\n",
       "      <td>1308</td>\n",
       "      <td>28.448751</td>\n",
       "    </tr>\n",
       "    <tr>\n",
       "      <th>1309</th>\n",
       "      <td>1309</td>\n",
       "      <td>0.401892</td>\n",
       "    </tr>\n",
       "  </tbody>\n",
       "</table>\n",
       "<p>1309 rows × 2 columns</p>\n",
       "</div>"
      ],
      "text/plain": [
       "             IdPassageiro      Idade\n",
       "PassengerId                         \n",
       "1                       1  22.000000\n",
       "2                       2  38.000000\n",
       "3                       3  26.000000\n",
       "4                       4  35.000000\n",
       "5                       5  35.000000\n",
       "...                   ...        ...\n",
       "1300                 1300  25.630240\n",
       "1302                 1302  25.630240\n",
       "1305                 1305  28.448751\n",
       "1308                 1308  28.448751\n",
       "1309                 1309   0.401892\n",
       "\n",
       "[1309 rows x 2 columns]"
      ]
     },
     "execution_count": 19,
     "metadata": {},
     "output_type": "execute_result"
    }
   ],
   "source": [
    "df_idade = pd.DataFrame({'IdPassageiro': idade.index, 'Idade': idade['Idade']})\n",
    "df_idade"
   ]
  },
  {
   "cell_type": "markdown",
   "metadata": {},
   "source": [
    "# Exportação do Resultado "
   ]
  },
  {
   "cell_type": "code",
   "execution_count": 20,
   "metadata": {},
   "outputs": [],
   "source": [
    "df_idade.to_csv(savefile, index=False)"
   ]
  }
 ],
 "metadata": {
  "kernelspec": {
   "display_name": "Python 3",
   "language": "python",
   "name": "python3"
  },
  "language_info": {
   "codemirror_mode": {
    "name": "ipython",
    "version": 3
   },
   "file_extension": ".py",
   "mimetype": "text/x-python",
   "name": "python",
   "nbconvert_exporter": "python",
   "pygments_lexer": "ipython3",
   "version": "3.7.7"
  }
 },
 "nbformat": 4,
 "nbformat_minor": 4
}
