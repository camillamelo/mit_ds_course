{
 "cells": [
  {
   "cell_type": "code",
   "execution_count": 1,
   "metadata": {},
   "outputs": [],
   "source": [
    "import pandas\n",
    "import os\n",
    "\n",
    "\n",
    "data_directory = '../../Data/Raw/airbnb/'\n",
    "output_directory='../../Data/Processed/airbnb/'"
   ]
  },
  {
   "cell_type": "markdown",
   "metadata": {},
   "source": [
    "# Load Data "
   ]
  },
  {
   "cell_type": "code",
   "execution_count": 2,
   "metadata": {},
   "outputs": [
    {
     "name": "stdout",
     "output_type": "stream",
     "text": [
      "Airbnb:  (5666, 16)\n"
     ]
    }
   ],
   "source": [
    "#Colocando o caminho do arquivo csv em uma variável.\n",
    "airbnb_file = data_directory + '/airbnb_queens_2019.csv'\n",
    "\n",
    "#Importando o arquivo csv para um DataFrame.\n",
    "df_airbnb = pandas.read_csv(airbnb_file)\n",
    "\n",
    "#Retirando as colunas desnecessárias para a análise.\n",
    "#Axis = 1 representa coluna e inplace é para retirar do datafreme original.\n",
    "df_airbnb.drop(['name','id','host_name','last_review','neighbourhood_group'], axis = 1, inplace = True)\n",
    "\n",
    "\n",
    "#Printando o shape do DF\n",
    "print('Airbnb: ', df_airbnb.shape)"
   ]
  },
  {
   "cell_type": "code",
   "execution_count": 10,
   "metadata": {},
   "outputs": [
    {
     "name": "stdout",
     "output_type": "stream",
     "text": [
      "id                                   0\n",
      "name                                 0\n",
      "host_id                              0\n",
      "host_name                            2\n",
      "neighbourhood_group                  0\n",
      "neighbourhood                        0\n",
      "latitude                             0\n",
      "longitude                            0\n",
      "room_type                            0\n",
      "price                                0\n",
      "minimum_nights                       0\n",
      "number_of_reviews                    0\n",
      "last_review                       1092\n",
      "reviews_per_month                 1092\n",
      "calculated_host_listings_count       0\n",
      "availability_365                     0\n",
      "dtype: int64\n"
     ]
    }
   ],
   "source": [
    "#Verificando quantos registros nulos existem em cada coluna.\n",
    "print(df_airbnb.isna().sum())"
   ]
  },
  {
   "cell_type": "code",
   "execution_count": 11,
   "metadata": {},
   "outputs": [
    {
     "name": "stdout",
     "output_type": "stream",
     "text": [
      "id                                 0.00\n",
      "name                               0.00\n",
      "host_id                            0.00\n",
      "host_name                          0.04\n",
      "neighbourhood_group                0.00\n",
      "neighbourhood                      0.00\n",
      "latitude                           0.00\n",
      "longitude                          0.00\n",
      "room_type                          0.00\n",
      "price                              0.00\n",
      "minimum_nights                     0.00\n",
      "number_of_reviews                  0.00\n",
      "last_review                       19.27\n",
      "reviews_per_month                 19.27\n",
      "calculated_host_listings_count     0.00\n",
      "availability_365                   0.00\n",
      "dtype: float64\n"
     ]
    }
   ],
   "source": [
    "#Verificar a porcentagem de dados faltantes\n",
    "print(df_airbnb.isna().mean().round(4)*100)"
   ]
  },
  {
   "cell_type": "code",
   "execution_count": 4,
   "metadata": {},
   "outputs": [
    {
     "data": {
      "text/html": [
       "<div>\n",
       "<style scoped>\n",
       "    .dataframe tbody tr th:only-of-type {\n",
       "        vertical-align: middle;\n",
       "    }\n",
       "\n",
       "    .dataframe tbody tr th {\n",
       "        vertical-align: top;\n",
       "    }\n",
       "\n",
       "    .dataframe thead th {\n",
       "        text-align: right;\n",
       "    }\n",
       "</style>\n",
       "<table border=\"1\" class=\"dataframe\">\n",
       "  <thead>\n",
       "    <tr style=\"text-align: right;\">\n",
       "      <th></th>\n",
       "      <th>id</th>\n",
       "      <th>host_id</th>\n",
       "      <th>latitude</th>\n",
       "      <th>longitude</th>\n",
       "      <th>price</th>\n",
       "      <th>minimum_nights</th>\n",
       "      <th>number_of_reviews</th>\n",
       "      <th>reviews_per_month</th>\n",
       "      <th>calculated_host_listings_count</th>\n",
       "      <th>availability_365</th>\n",
       "    </tr>\n",
       "  </thead>\n",
       "  <tbody>\n",
       "    <tr>\n",
       "      <th>count</th>\n",
       "      <td>5.666000e+03</td>\n",
       "      <td>5.666000e+03</td>\n",
       "      <td>5666.000000</td>\n",
       "      <td>5666.000000</td>\n",
       "      <td>5666.000000</td>\n",
       "      <td>5666.000000</td>\n",
       "      <td>5666.000000</td>\n",
       "      <td>4574.000000</td>\n",
       "      <td>5666.000000</td>\n",
       "      <td>5666.000000</td>\n",
       "    </tr>\n",
       "    <tr>\n",
       "      <th>mean</th>\n",
       "      <td>2.175500e+07</td>\n",
       "      <td>9.615680e+07</td>\n",
       "      <td>40.731531</td>\n",
       "      <td>-73.872775</td>\n",
       "      <td>99.517649</td>\n",
       "      <td>5.181433</td>\n",
       "      <td>27.700318</td>\n",
       "      <td>1.941200</td>\n",
       "      <td>4.060184</td>\n",
       "      <td>144.451818</td>\n",
       "    </tr>\n",
       "    <tr>\n",
       "      <th>std</th>\n",
       "      <td>1.037687e+07</td>\n",
       "      <td>8.424324e+07</td>\n",
       "      <td>0.040368</td>\n",
       "      <td>0.056988</td>\n",
       "      <td>167.102155</td>\n",
       "      <td>15.028725</td>\n",
       "      <td>51.955853</td>\n",
       "      <td>2.213108</td>\n",
       "      <td>12.445003</td>\n",
       "      <td>135.538597</td>\n",
       "    </tr>\n",
       "    <tr>\n",
       "      <th>min</th>\n",
       "      <td>1.293700e+04</td>\n",
       "      <td>3.211000e+03</td>\n",
       "      <td>40.565460</td>\n",
       "      <td>-73.959270</td>\n",
       "      <td>10.000000</td>\n",
       "      <td>1.000000</td>\n",
       "      <td>0.000000</td>\n",
       "      <td>0.010000</td>\n",
       "      <td>1.000000</td>\n",
       "      <td>0.000000</td>\n",
       "    </tr>\n",
       "    <tr>\n",
       "      <th>25%</th>\n",
       "      <td>1.396042e+07</td>\n",
       "      <td>2.121601e+07</td>\n",
       "      <td>40.707410</td>\n",
       "      <td>-73.917420</td>\n",
       "      <td>50.000000</td>\n",
       "      <td>1.000000</td>\n",
       "      <td>1.000000</td>\n",
       "      <td>0.370000</td>\n",
       "      <td>1.000000</td>\n",
       "      <td>2.000000</td>\n",
       "    </tr>\n",
       "    <tr>\n",
       "      <th>50%</th>\n",
       "      <td>2.256460e+07</td>\n",
       "      <td>6.827146e+07</td>\n",
       "      <td>40.744790</td>\n",
       "      <td>-73.895045</td>\n",
       "      <td>75.000000</td>\n",
       "      <td>2.000000</td>\n",
       "      <td>7.000000</td>\n",
       "      <td>1.210000</td>\n",
       "      <td>1.000000</td>\n",
       "      <td>98.000000</td>\n",
       "    </tr>\n",
       "    <tr>\n",
       "      <th>75%</th>\n",
       "      <td>3.076880e+07</td>\n",
       "      <td>1.580312e+08</td>\n",
       "      <td>40.759780</td>\n",
       "      <td>-73.829602</td>\n",
       "      <td>110.000000</td>\n",
       "      <td>3.000000</td>\n",
       "      <td>32.000000</td>\n",
       "      <td>2.790000</td>\n",
       "      <td>3.000000</td>\n",
       "      <td>286.000000</td>\n",
       "    </tr>\n",
       "    <tr>\n",
       "      <th>max</th>\n",
       "      <td>3.648436e+07</td>\n",
       "      <td>2.742256e+08</td>\n",
       "      <td>40.797210</td>\n",
       "      <td>-73.712990</td>\n",
       "      <td>10000.000000</td>\n",
       "      <td>500.000000</td>\n",
       "      <td>629.000000</td>\n",
       "      <td>20.940000</td>\n",
       "      <td>103.000000</td>\n",
       "      <td>365.000000</td>\n",
       "    </tr>\n",
       "  </tbody>\n",
       "</table>\n",
       "</div>"
      ],
      "text/plain": [
       "                 id       host_id     latitude    longitude         price  \\\n",
       "count  5.666000e+03  5.666000e+03  5666.000000  5666.000000   5666.000000   \n",
       "mean   2.175500e+07  9.615680e+07    40.731531   -73.872775     99.517649   \n",
       "std    1.037687e+07  8.424324e+07     0.040368     0.056988    167.102155   \n",
       "min    1.293700e+04  3.211000e+03    40.565460   -73.959270     10.000000   \n",
       "25%    1.396042e+07  2.121601e+07    40.707410   -73.917420     50.000000   \n",
       "50%    2.256460e+07  6.827146e+07    40.744790   -73.895045     75.000000   \n",
       "75%    3.076880e+07  1.580312e+08    40.759780   -73.829602    110.000000   \n",
       "max    3.648436e+07  2.742256e+08    40.797210   -73.712990  10000.000000   \n",
       "\n",
       "       minimum_nights  number_of_reviews  reviews_per_month  \\\n",
       "count     5666.000000        5666.000000        4574.000000   \n",
       "mean         5.181433          27.700318           1.941200   \n",
       "std         15.028725          51.955853           2.213108   \n",
       "min          1.000000           0.000000           0.010000   \n",
       "25%          1.000000           1.000000           0.370000   \n",
       "50%          2.000000           7.000000           1.210000   \n",
       "75%          3.000000          32.000000           2.790000   \n",
       "max        500.000000         629.000000          20.940000   \n",
       "\n",
       "       calculated_host_listings_count  availability_365  \n",
       "count                     5666.000000       5666.000000  \n",
       "mean                         4.060184        144.451818  \n",
       "std                         12.445003        135.538597  \n",
       "min                          1.000000          0.000000  \n",
       "25%                          1.000000          2.000000  \n",
       "50%                          1.000000         98.000000  \n",
       "75%                          3.000000        286.000000  \n",
       "max                        103.000000        365.000000  "
      ]
     },
     "execution_count": 4,
     "metadata": {},
     "output_type": "execute_result"
    }
   ],
   "source": [
    "df_airbnb.describe()"
   ]
  },
  {
   "cell_type": "markdown",
   "metadata": {},
   "source": [
    "# AIRBNB"
   ]
  },
  {
   "cell_type": "code",
   "execution_count": 12,
   "metadata": {},
   "outputs": [
    {
     "data": {
      "text/plain": [
       "id                                  int64\n",
       "name                               object\n",
       "host_id                             int64\n",
       "host_name                          object\n",
       "neighbourhood_group                object\n",
       "neighbourhood                      object\n",
       "latitude                          float64\n",
       "longitude                         float64\n",
       "room_type                          object\n",
       "price                               int64\n",
       "minimum_nights                      int64\n",
       "number_of_reviews                   int64\n",
       "last_review                        object\n",
       "reviews_per_month                 float64\n",
       "calculated_host_listings_count      int64\n",
       "availability_365                    int64\n",
       "dtype: object"
      ]
     },
     "execution_count": 12,
     "metadata": {},
     "output_type": "execute_result"
    }
   ],
   "source": [
    "df_airbnb.dtypes"
   ]
  },
  {
   "cell_type": "markdown",
   "metadata": {},
   "source": [
    "# Fill NaN Values "
   ]
  },
  {
   "cell_type": "code",
   "execution_count": null,
   "metadata": {},
   "outputs": [],
   "source": [
    "#Colocando em um dicionário as colunas que estavam com valor NaN e setando 0 para elas.\n",
    "nan_rule = {'reviews_per_month': 0,}\n",
    "\n",
    "#Percorrendo os dicionário e mudando os valores nulos das colunas por zero do DataFrame.\n",
    "for cname, rule in nan_rule.items():\n",
    "    df_airbnb.loc[:, cname] = df_airbnb[cname].fillna(rule)\\\n",
    "    \n",
    "print(df_airbnb.shape)"
   ]
  },
  {
   "cell_type": "code",
   "execution_count": null,
   "metadata": {},
   "outputs": [],
   "source": [
    "df_airbnb.describe()"
   ]
  },
  {
   "cell_type": "markdown",
   "metadata": {},
   "source": [
    "# Numeric Variables "
   ]
  },
  {
   "cell_type": "code",
   "execution_count": null,
   "metadata": {},
   "outputs": [],
   "source": [
    "num_variables = ['latitude', 'longitude', 'price','minimum_nights','number_of_reviews','reviews_per_month',\n",
    "                 'calculated_host_listings_count','availability_365']\n",
    "\n",
    "for cname in num_variables:\n",
    "    df_airbnb[cname] = df_airbnb[cname].astype(float, errors='ignore').fillna(0)"
   ]
  },
  {
   "cell_type": "markdown",
   "metadata": {},
   "source": [
    "# Categorical Variables "
   ]
  },
  {
   "cell_type": "code",
   "execution_count": null,
   "metadata": {},
   "outputs": [],
   "source": [
    "cat_variables = ['neighbourhood','room_type']\n",
    "\n",
    "for cname in cat_variables:\n",
    "    df_airbnb[cname] = df_airbnb[cname].astype(str)"
   ]
  },
  {
   "cell_type": "markdown",
   "metadata": {},
   "source": [
    "# Prepared Data "
   ]
  },
  {
   "cell_type": "markdown",
   "metadata": {},
   "source": [
    "## Features "
   ]
  },
  {
   "cell_type": "code",
   "execution_count": null,
   "metadata": {},
   "outputs": [],
   "source": [
    "df_airbnb.head()"
   ]
  },
  {
   "cell_type": "markdown",
   "metadata": {},
   "source": [
    "# Export Data"
   ]
  },
  {
   "cell_type": "code",
   "execution_count": null,
   "metadata": {},
   "outputs": [],
   "source": [
    "help(os.makedirs)"
   ]
  },
  {
   "cell_type": "code",
   "execution_count": null,
   "metadata": {},
   "outputs": [],
   "source": [
    "os.makedirs(output_directory, exist_ok=True)\n",
    "\n",
    "airbnb_file = output_directory + '/airbnb.parquet'\n",
    "\n",
    "# read features\n",
    "df_airbnb.to_parquet(airbnb_file)"
   ]
  },
  {
   "cell_type": "code",
   "execution_count": null,
   "metadata": {},
   "outputs": [],
   "source": []
  }
 ],
 "metadata": {
  "kernelspec": {
   "display_name": "Python 3",
   "language": "python",
   "name": "python3"
  },
  "language_info": {
   "codemirror_mode": {
    "name": "ipython",
    "version": 3
   },
   "file_extension": ".py",
   "mimetype": "text/x-python",
   "name": "python",
   "nbconvert_exporter": "python",
   "pygments_lexer": "ipython3",
   "version": "3.7.7"
  }
 },
 "nbformat": 4,
 "nbformat_minor": 4
}
