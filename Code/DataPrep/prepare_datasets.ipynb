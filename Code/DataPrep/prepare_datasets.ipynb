{
 "cells": [
  {
   "cell_type": "code",
   "execution_count": 1,
   "metadata": {},
   "outputs": [],
   "source": [
    "import pandas\n",
    "import os\n",
    "\n",
    "\n",
    "data_directory = '../../Data/Raw/airbnb/'\n",
    "output_directory='../../Data/Processed/airbnb/'"
   ]
  },
  {
   "cell_type": "markdown",
   "metadata": {},
   "source": [
    "# Load Data "
   ]
  },
  {
   "cell_type": "code",
   "execution_count": 15,
   "metadata": {},
   "outputs": [
    {
     "name": "stdout",
     "output_type": "stream",
     "text": [
      "Airbnb:  (5666, 11)\n"
     ]
    }
   ],
   "source": [
    "#Colocando o caminho do arquivo csv em uma variável.\n",
    "airbnb_file = data_directory + '/airbnb_queens_2019.csv'\n",
    "\n",
    "#Importando o arquivo csv para um DataFrame.\n",
    "df_airbnb = pandas.read_csv(airbnb_file)\n",
    "\n",
    "#Retirando as colunas desnecessárias para a análise.\n",
    "#Axis = 1 representa coluna e inplace é para retirar do datafreme original.\n",
    "df_airbnb.drop(['name','id','host_name','last_review','neighbourhood_group'], axis = 1, inplace = True)\n",
    "\n",
    "\n",
    "#Printando o shape do DF\n",
    "print('Airbnb: ', df_airbnb.shape)"
   ]
  },
  {
   "cell_type": "code",
   "execution_count": 16,
   "metadata": {},
   "outputs": [
    {
     "name": "stdout",
     "output_type": "stream",
     "text": [
      "host_id                              0\n",
      "neighbourhood                        0\n",
      "latitude                             0\n",
      "longitude                            0\n",
      "room_type                            0\n",
      "price                                0\n",
      "minimum_nights                       0\n",
      "number_of_reviews                    0\n",
      "reviews_per_month                 1092\n",
      "calculated_host_listings_count       0\n",
      "availability_365                     0\n",
      "dtype: int64\n"
     ]
    }
   ],
   "source": [
    "#Verificando quantos registros nulos existem em cada coluna.\n",
    "print(df_airbnb.isna().sum())"
   ]
  },
  {
   "cell_type": "code",
   "execution_count": 17,
   "metadata": {},
   "outputs": [
    {
     "name": "stdout",
     "output_type": "stream",
     "text": [
      "host_id                            0.00\n",
      "neighbourhood                      0.00\n",
      "latitude                           0.00\n",
      "longitude                          0.00\n",
      "room_type                          0.00\n",
      "price                              0.00\n",
      "minimum_nights                     0.00\n",
      "number_of_reviews                  0.00\n",
      "reviews_per_month                 19.27\n",
      "calculated_host_listings_count     0.00\n",
      "availability_365                   0.00\n",
      "dtype: float64\n"
     ]
    }
   ],
   "source": [
    "#Verificar a porcentagem de dados faltantes\n",
    "print(df_airbnb.isna().mean().round(4)*100)"
   ]
  },
  {
   "cell_type": "code",
   "execution_count": 18,
   "metadata": {},
   "outputs": [
    {
     "data": {
      "text/html": [
       "<div>\n",
       "<style scoped>\n",
       "    .dataframe tbody tr th:only-of-type {\n",
       "        vertical-align: middle;\n",
       "    }\n",
       "\n",
       "    .dataframe tbody tr th {\n",
       "        vertical-align: top;\n",
       "    }\n",
       "\n",
       "    .dataframe thead th {\n",
       "        text-align: right;\n",
       "    }\n",
       "</style>\n",
       "<table border=\"1\" class=\"dataframe\">\n",
       "  <thead>\n",
       "    <tr style=\"text-align: right;\">\n",
       "      <th></th>\n",
       "      <th>host_id</th>\n",
       "      <th>latitude</th>\n",
       "      <th>longitude</th>\n",
       "      <th>price</th>\n",
       "      <th>minimum_nights</th>\n",
       "      <th>number_of_reviews</th>\n",
       "      <th>reviews_per_month</th>\n",
       "      <th>calculated_host_listings_count</th>\n",
       "      <th>availability_365</th>\n",
       "    </tr>\n",
       "  </thead>\n",
       "  <tbody>\n",
       "    <tr>\n",
       "      <th>count</th>\n",
       "      <td>5.666000e+03</td>\n",
       "      <td>5666.000000</td>\n",
       "      <td>5666.000000</td>\n",
       "      <td>5666.000000</td>\n",
       "      <td>5666.000000</td>\n",
       "      <td>5666.000000</td>\n",
       "      <td>4574.000000</td>\n",
       "      <td>5666.000000</td>\n",
       "      <td>5666.000000</td>\n",
       "    </tr>\n",
       "    <tr>\n",
       "      <th>mean</th>\n",
       "      <td>9.615680e+07</td>\n",
       "      <td>40.731531</td>\n",
       "      <td>-73.872775</td>\n",
       "      <td>99.517649</td>\n",
       "      <td>5.181433</td>\n",
       "      <td>27.700318</td>\n",
       "      <td>1.941200</td>\n",
       "      <td>4.060184</td>\n",
       "      <td>144.451818</td>\n",
       "    </tr>\n",
       "    <tr>\n",
       "      <th>std</th>\n",
       "      <td>8.424324e+07</td>\n",
       "      <td>0.040368</td>\n",
       "      <td>0.056988</td>\n",
       "      <td>167.102155</td>\n",
       "      <td>15.028725</td>\n",
       "      <td>51.955853</td>\n",
       "      <td>2.213108</td>\n",
       "      <td>12.445003</td>\n",
       "      <td>135.538597</td>\n",
       "    </tr>\n",
       "    <tr>\n",
       "      <th>min</th>\n",
       "      <td>3.211000e+03</td>\n",
       "      <td>40.565460</td>\n",
       "      <td>-73.959270</td>\n",
       "      <td>10.000000</td>\n",
       "      <td>1.000000</td>\n",
       "      <td>0.000000</td>\n",
       "      <td>0.010000</td>\n",
       "      <td>1.000000</td>\n",
       "      <td>0.000000</td>\n",
       "    </tr>\n",
       "    <tr>\n",
       "      <th>25%</th>\n",
       "      <td>2.121601e+07</td>\n",
       "      <td>40.707410</td>\n",
       "      <td>-73.917420</td>\n",
       "      <td>50.000000</td>\n",
       "      <td>1.000000</td>\n",
       "      <td>1.000000</td>\n",
       "      <td>0.370000</td>\n",
       "      <td>1.000000</td>\n",
       "      <td>2.000000</td>\n",
       "    </tr>\n",
       "    <tr>\n",
       "      <th>50%</th>\n",
       "      <td>6.827146e+07</td>\n",
       "      <td>40.744790</td>\n",
       "      <td>-73.895045</td>\n",
       "      <td>75.000000</td>\n",
       "      <td>2.000000</td>\n",
       "      <td>7.000000</td>\n",
       "      <td>1.210000</td>\n",
       "      <td>1.000000</td>\n",
       "      <td>98.000000</td>\n",
       "    </tr>\n",
       "    <tr>\n",
       "      <th>75%</th>\n",
       "      <td>1.580312e+08</td>\n",
       "      <td>40.759780</td>\n",
       "      <td>-73.829602</td>\n",
       "      <td>110.000000</td>\n",
       "      <td>3.000000</td>\n",
       "      <td>32.000000</td>\n",
       "      <td>2.790000</td>\n",
       "      <td>3.000000</td>\n",
       "      <td>286.000000</td>\n",
       "    </tr>\n",
       "    <tr>\n",
       "      <th>max</th>\n",
       "      <td>2.742256e+08</td>\n",
       "      <td>40.797210</td>\n",
       "      <td>-73.712990</td>\n",
       "      <td>10000.000000</td>\n",
       "      <td>500.000000</td>\n",
       "      <td>629.000000</td>\n",
       "      <td>20.940000</td>\n",
       "      <td>103.000000</td>\n",
       "      <td>365.000000</td>\n",
       "    </tr>\n",
       "  </tbody>\n",
       "</table>\n",
       "</div>"
      ],
      "text/plain": [
       "            host_id     latitude    longitude         price  minimum_nights  \\\n",
       "count  5.666000e+03  5666.000000  5666.000000   5666.000000     5666.000000   \n",
       "mean   9.615680e+07    40.731531   -73.872775     99.517649        5.181433   \n",
       "std    8.424324e+07     0.040368     0.056988    167.102155       15.028725   \n",
       "min    3.211000e+03    40.565460   -73.959270     10.000000        1.000000   \n",
       "25%    2.121601e+07    40.707410   -73.917420     50.000000        1.000000   \n",
       "50%    6.827146e+07    40.744790   -73.895045     75.000000        2.000000   \n",
       "75%    1.580312e+08    40.759780   -73.829602    110.000000        3.000000   \n",
       "max    2.742256e+08    40.797210   -73.712990  10000.000000      500.000000   \n",
       "\n",
       "       number_of_reviews  reviews_per_month  calculated_host_listings_count  \\\n",
       "count        5666.000000        4574.000000                     5666.000000   \n",
       "mean           27.700318           1.941200                        4.060184   \n",
       "std            51.955853           2.213108                       12.445003   \n",
       "min             0.000000           0.010000                        1.000000   \n",
       "25%             1.000000           0.370000                        1.000000   \n",
       "50%             7.000000           1.210000                        1.000000   \n",
       "75%            32.000000           2.790000                        3.000000   \n",
       "max           629.000000          20.940000                      103.000000   \n",
       "\n",
       "       availability_365  \n",
       "count       5666.000000  \n",
       "mean         144.451818  \n",
       "std          135.538597  \n",
       "min            0.000000  \n",
       "25%            2.000000  \n",
       "50%           98.000000  \n",
       "75%          286.000000  \n",
       "max          365.000000  "
      ]
     },
     "execution_count": 18,
     "metadata": {},
     "output_type": "execute_result"
    }
   ],
   "source": [
    "df_airbnb.describe()"
   ]
  },
  {
   "cell_type": "markdown",
   "metadata": {},
   "source": [
    "# AIRBNB"
   ]
  },
  {
   "cell_type": "code",
   "execution_count": 19,
   "metadata": {},
   "outputs": [
    {
     "data": {
      "text/plain": [
       "host_id                             int64\n",
       "neighbourhood                      object\n",
       "latitude                          float64\n",
       "longitude                         float64\n",
       "room_type                          object\n",
       "price                               int64\n",
       "minimum_nights                      int64\n",
       "number_of_reviews                   int64\n",
       "reviews_per_month                 float64\n",
       "calculated_host_listings_count      int64\n",
       "availability_365                    int64\n",
       "dtype: object"
      ]
     },
     "execution_count": 19,
     "metadata": {},
     "output_type": "execute_result"
    }
   ],
   "source": [
    "df_airbnb.dtypes"
   ]
  },
  {
   "cell_type": "markdown",
   "metadata": {},
   "source": [
    "# Fill NaN Values "
   ]
  },
  {
   "cell_type": "code",
   "execution_count": 28,
   "metadata": {},
   "outputs": [
    {
     "name": "stdout",
     "output_type": "stream",
     "text": [
      "(5666, 11)\n"
     ]
    }
   ],
   "source": [
    "#Colocando em um dicionário as colunas que estavam com valor NaN e setando 0 para elas.\n",
    "nan_rule = {'reviews_per_month': 0,}\n",
    "\n",
    "#Percorrendo os dicionário e mudando os valores nulos das colunas por zero do DataFrame.\n",
    "for cname, rule in nan_rule.items():\n",
    "    df_airbnb.loc[:, cname] = df_airbnb[cname].fillna(rule)\\\n",
    "    \n",
    "print(df_airbnb.shape)"
   ]
  },
  {
   "cell_type": "code",
   "execution_count": 29,
   "metadata": {},
   "outputs": [
    {
     "name": "stdout",
     "output_type": "stream",
     "text": [
      "host_id                           0\n",
      "neighbourhood                     0\n",
      "latitude                          0\n",
      "longitude                         0\n",
      "room_type                         0\n",
      "price                             0\n",
      "minimum_nights                    0\n",
      "number_of_reviews                 0\n",
      "reviews_per_month                 0\n",
      "calculated_host_listings_count    0\n",
      "availability_365                  0\n",
      "dtype: int64\n"
     ]
    }
   ],
   "source": [
    "#Verificando quantos registros nulos existem em cada coluna.\n",
    "print(df_airbnb.isna().sum())"
   ]
  },
  {
   "cell_type": "code",
   "execution_count": 30,
   "metadata": {},
   "outputs": [
    {
     "name": "stdout",
     "output_type": "stream",
     "text": [
      "host_id                           0.0\n",
      "neighbourhood                     0.0\n",
      "latitude                          0.0\n",
      "longitude                         0.0\n",
      "room_type                         0.0\n",
      "price                             0.0\n",
      "minimum_nights                    0.0\n",
      "number_of_reviews                 0.0\n",
      "reviews_per_month                 0.0\n",
      "calculated_host_listings_count    0.0\n",
      "availability_365                  0.0\n",
      "dtype: float64\n"
     ]
    }
   ],
   "source": [
    "#Verificar a porcentagem de dados faltantes\n",
    "print(df_airbnb.isna().sum() / df_airbnb.shape[0])"
   ]
  },
  {
   "cell_type": "code",
   "execution_count": 27,
   "metadata": {},
   "outputs": [],
   "source": [
    "num_variables = ['latitude', 'longitude', 'price','minimum_nights','number_of_reviews','reviews_per_month',\n",
    "                 'calculated_host_listings_count','availability_365']\n"
   ]
  },
  {
   "cell_type": "code",
   "execution_count": 33,
   "metadata": {},
   "outputs": [
    {
     "data": {
      "text/html": [
       "<div>\n",
       "<style scoped>\n",
       "    .dataframe tbody tr th:only-of-type {\n",
       "        vertical-align: middle;\n",
       "    }\n",
       "\n",
       "    .dataframe tbody tr th {\n",
       "        vertical-align: top;\n",
       "    }\n",
       "\n",
       "    .dataframe thead th {\n",
       "        text-align: right;\n",
       "    }\n",
       "</style>\n",
       "<table border=\"1\" class=\"dataframe\">\n",
       "  <thead>\n",
       "    <tr style=\"text-align: right;\">\n",
       "      <th></th>\n",
       "      <th>Min</th>\n",
       "      <th>Max</th>\n",
       "      <th>Distancia</th>\n",
       "    </tr>\n",
       "  </thead>\n",
       "  <tbody>\n",
       "    <tr>\n",
       "      <th>latitude</th>\n",
       "      <td>40.5655</td>\n",
       "      <td>40.7972</td>\n",
       "      <td>0.23175</td>\n",
       "    </tr>\n",
       "    <tr>\n",
       "      <th>longitude</th>\n",
       "      <td>-73.9593</td>\n",
       "      <td>-73.713</td>\n",
       "      <td>0.24628</td>\n",
       "    </tr>\n",
       "    <tr>\n",
       "      <th>price</th>\n",
       "      <td>10</td>\n",
       "      <td>10000</td>\n",
       "      <td>9990</td>\n",
       "    </tr>\n",
       "    <tr>\n",
       "      <th>minimum_nights</th>\n",
       "      <td>1</td>\n",
       "      <td>500</td>\n",
       "      <td>499</td>\n",
       "    </tr>\n",
       "    <tr>\n",
       "      <th>number_of_reviews</th>\n",
       "      <td>0</td>\n",
       "      <td>629</td>\n",
       "      <td>629</td>\n",
       "    </tr>\n",
       "    <tr>\n",
       "      <th>reviews_per_month</th>\n",
       "      <td>0</td>\n",
       "      <td>20.94</td>\n",
       "      <td>20.94</td>\n",
       "    </tr>\n",
       "    <tr>\n",
       "      <th>calculated_host_listings_count</th>\n",
       "      <td>1</td>\n",
       "      <td>103</td>\n",
       "      <td>102</td>\n",
       "    </tr>\n",
       "    <tr>\n",
       "      <th>availability_365</th>\n",
       "      <td>0</td>\n",
       "      <td>365</td>\n",
       "      <td>365</td>\n",
       "    </tr>\n",
       "  </tbody>\n",
       "</table>\n",
       "</div>"
      ],
      "text/plain": [
       "                                    Min      Max Distancia\n",
       "latitude                        40.5655  40.7972   0.23175\n",
       "longitude                      -73.9593  -73.713   0.24628\n",
       "price                                10    10000      9990\n",
       "minimum_nights                        1      500       499\n",
       "number_of_reviews                     0      629       629\n",
       "reviews_per_month                     0    20.94     20.94\n",
       "calculated_host_listings_count        1      103       102\n",
       "availability_365                      0      365       365"
      ]
     },
     "execution_count": 33,
     "metadata": {},
     "output_type": "execute_result"
    }
   ],
   "source": [
    "\n",
    "df = pandas.DataFrame(index = num_variables, columns=['Min', 'Max', 'Distancia'])\n",
    "for cname in num_variables:\n",
    "    df.loc[cname, 'Min'] = df_airbnb[cname].min()\n",
    "    df.loc[cname, 'Max'] = df_airbnb[cname].max()  \n",
    "\n",
    "df['Distancia'] = df['Max'] - df['Min']\n",
    "\n",
    "df\n"
   ]
  },
  {
   "cell_type": "code",
   "execution_count": 34,
   "metadata": {},
   "outputs": [
    {
     "data": {
      "text/plain": [
       "host_id                                      3211\n",
       "neighbourhood                             Arverne\n",
       "latitude                                  40.5655\n",
       "longitude                                -73.9593\n",
       "room_type                         Entire home/apt\n",
       "price                                          10\n",
       "minimum_nights                                  1\n",
       "number_of_reviews                               0\n",
       "reviews_per_month                               0\n",
       "calculated_host_listings_count                  1\n",
       "availability_365                                0\n",
       "dtype: object"
      ]
     },
     "execution_count": 34,
     "metadata": {},
     "output_type": "execute_result"
    }
   ],
   "source": [
    "df_airbnb.min()"
   ]
  },
  {
   "cell_type": "markdown",
   "metadata": {},
   "source": [
    "# Numeric Variables "
   ]
  },
  {
   "cell_type": "code",
   "execution_count": 35,
   "metadata": {},
   "outputs": [],
   "source": [
    "num_variables = ['latitude', 'longitude', 'price','minimum_nights','number_of_reviews','reviews_per_month',\n",
    "                 'calculated_host_listings_count','availability_365']\n",
    "\n",
    "for cname in num_variables:\n",
    "    df_airbnb[cname] = df_airbnb[cname].astype(float, errors='ignore').fillna(0)"
   ]
  },
  {
   "cell_type": "markdown",
   "metadata": {},
   "source": [
    "# Categorical Variables "
   ]
  },
  {
   "cell_type": "code",
   "execution_count": 36,
   "metadata": {},
   "outputs": [],
   "source": [
    "cat_variables = ['neighbourhood','room_type']\n",
    "\n",
    "for cname in cat_variables:\n",
    "    df_airbnb[cname] = df_airbnb[cname].astype(str)"
   ]
  },
  {
   "cell_type": "markdown",
   "metadata": {},
   "source": [
    "# Prepared Data "
   ]
  },
  {
   "cell_type": "markdown",
   "metadata": {},
   "source": [
    "## Features "
   ]
  },
  {
   "cell_type": "code",
   "execution_count": 37,
   "metadata": {},
   "outputs": [
    {
     "data": {
      "text/html": [
       "<div>\n",
       "<style scoped>\n",
       "    .dataframe tbody tr th:only-of-type {\n",
       "        vertical-align: middle;\n",
       "    }\n",
       "\n",
       "    .dataframe tbody tr th {\n",
       "        vertical-align: top;\n",
       "    }\n",
       "\n",
       "    .dataframe thead th {\n",
       "        text-align: right;\n",
       "    }\n",
       "</style>\n",
       "<table border=\"1\" class=\"dataframe\">\n",
       "  <thead>\n",
       "    <tr style=\"text-align: right;\">\n",
       "      <th></th>\n",
       "      <th>host_id</th>\n",
       "      <th>neighbourhood</th>\n",
       "      <th>latitude</th>\n",
       "      <th>longitude</th>\n",
       "      <th>room_type</th>\n",
       "      <th>price</th>\n",
       "      <th>minimum_nights</th>\n",
       "      <th>number_of_reviews</th>\n",
       "      <th>reviews_per_month</th>\n",
       "      <th>calculated_host_listings_count</th>\n",
       "      <th>availability_365</th>\n",
       "    </tr>\n",
       "  </thead>\n",
       "  <tbody>\n",
       "    <tr>\n",
       "      <th>0</th>\n",
       "      <td>50124</td>\n",
       "      <td>Long Island City</td>\n",
       "      <td>40.74771</td>\n",
       "      <td>-73.94740</td>\n",
       "      <td>Private room</td>\n",
       "      <td>130.0</td>\n",
       "      <td>3.0</td>\n",
       "      <td>248.0</td>\n",
       "      <td>2.25</td>\n",
       "      <td>1.0</td>\n",
       "      <td>215.0</td>\n",
       "    </tr>\n",
       "    <tr>\n",
       "      <th>1</th>\n",
       "      <td>70091</td>\n",
       "      <td>Woodside</td>\n",
       "      <td>40.75038</td>\n",
       "      <td>-73.90334</td>\n",
       "      <td>Private room</td>\n",
       "      <td>70.0</td>\n",
       "      <td>30.0</td>\n",
       "      <td>25.0</td>\n",
       "      <td>0.22</td>\n",
       "      <td>1.0</td>\n",
       "      <td>324.0</td>\n",
       "    </tr>\n",
       "    <tr>\n",
       "      <th>2</th>\n",
       "      <td>140025</td>\n",
       "      <td>Flushing</td>\n",
       "      <td>40.74028</td>\n",
       "      <td>-73.83168</td>\n",
       "      <td>Private room</td>\n",
       "      <td>140.0</td>\n",
       "      <td>2.0</td>\n",
       "      <td>1.0</td>\n",
       "      <td>0.01</td>\n",
       "      <td>1.0</td>\n",
       "      <td>1.0</td>\n",
       "    </tr>\n",
       "    <tr>\n",
       "      <th>3</th>\n",
       "      <td>110506</td>\n",
       "      <td>Sunnyside</td>\n",
       "      <td>40.74559</td>\n",
       "      <td>-73.92313</td>\n",
       "      <td>Private room</td>\n",
       "      <td>79.0</td>\n",
       "      <td>30.0</td>\n",
       "      <td>28.0</td>\n",
       "      <td>0.26</td>\n",
       "      <td>1.0</td>\n",
       "      <td>126.0</td>\n",
       "    </tr>\n",
       "    <tr>\n",
       "      <th>4</th>\n",
       "      <td>204539</td>\n",
       "      <td>Ridgewood</td>\n",
       "      <td>40.70382</td>\n",
       "      <td>-73.89797</td>\n",
       "      <td>Entire home/apt</td>\n",
       "      <td>350.0</td>\n",
       "      <td>8.0</td>\n",
       "      <td>10.0</td>\n",
       "      <td>0.11</td>\n",
       "      <td>5.0</td>\n",
       "      <td>365.0</td>\n",
       "    </tr>\n",
       "  </tbody>\n",
       "</table>\n",
       "</div>"
      ],
      "text/plain": [
       "   host_id     neighbourhood  latitude  longitude        room_type  price  \\\n",
       "0    50124  Long Island City  40.74771  -73.94740     Private room  130.0   \n",
       "1    70091          Woodside  40.75038  -73.90334     Private room   70.0   \n",
       "2   140025          Flushing  40.74028  -73.83168     Private room  140.0   \n",
       "3   110506         Sunnyside  40.74559  -73.92313     Private room   79.0   \n",
       "4   204539         Ridgewood  40.70382  -73.89797  Entire home/apt  350.0   \n",
       "\n",
       "   minimum_nights  number_of_reviews  reviews_per_month  \\\n",
       "0             3.0              248.0               2.25   \n",
       "1            30.0               25.0               0.22   \n",
       "2             2.0                1.0               0.01   \n",
       "3            30.0               28.0               0.26   \n",
       "4             8.0               10.0               0.11   \n",
       "\n",
       "   calculated_host_listings_count  availability_365  \n",
       "0                             1.0             215.0  \n",
       "1                             1.0             324.0  \n",
       "2                             1.0               1.0  \n",
       "3                             1.0             126.0  \n",
       "4                             5.0             365.0  "
      ]
     },
     "execution_count": 37,
     "metadata": {},
     "output_type": "execute_result"
    }
   ],
   "source": [
    "df_airbnb.head()"
   ]
  },
  {
   "cell_type": "markdown",
   "metadata": {},
   "source": [
    "# Export Data"
   ]
  },
  {
   "cell_type": "code",
   "execution_count": 38,
   "metadata": {},
   "outputs": [
    {
     "name": "stdout",
     "output_type": "stream",
     "text": [
      "Help on function makedirs in module os:\n",
      "\n",
      "makedirs(name, mode=511, exist_ok=False)\n",
      "    makedirs(name [, mode=0o777][, exist_ok=False])\n",
      "    \n",
      "    Super-mkdir; create a leaf directory and all intermediate ones.  Works like\n",
      "    mkdir, except that any intermediate path segment (not just the rightmost)\n",
      "    will be created if it does not exist. If the target directory already\n",
      "    exists, raise an OSError if exist_ok is False. Otherwise no exception is\n",
      "    raised.  This is recursive.\n",
      "\n"
     ]
    }
   ],
   "source": [
    "help(os.makedirs)"
   ]
  },
  {
   "cell_type": "code",
   "execution_count": 39,
   "metadata": {},
   "outputs": [],
   "source": [
    "os.makedirs(output_directory, exist_ok=True)\n",
    "\n",
    "airbnb_file = output_directory + '/airbnb.parquet'\n",
    "\n",
    "# read features\n",
    "df_airbnb.to_parquet(airbnb_file)"
   ]
  },
  {
   "cell_type": "code",
   "execution_count": null,
   "metadata": {},
   "outputs": [],
   "source": []
  }
 ],
 "metadata": {
  "kernelspec": {
   "display_name": "Python 3",
   "language": "python",
   "name": "python3"
  },
  "language_info": {
   "codemirror_mode": {
    "name": "ipython",
    "version": 3
   },
   "file_extension": ".py",
   "mimetype": "text/x-python",
   "name": "python",
   "nbconvert_exporter": "python",
   "pygments_lexer": "ipython3",
   "version": "3.7.7"
  }
 },
 "nbformat": 4,
 "nbformat_minor": 4
}
