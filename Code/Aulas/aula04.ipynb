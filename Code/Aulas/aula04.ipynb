{
 "cells": [
  {
   "cell_type": "code",
   "execution_count": 17,
   "metadata": {},
   "outputs": [],
   "source": [
    "import pandas\n",
    "import numpy as np\n",
    "import seaborn as sns\n",
    "import matplotlib.pyplot as plt\n",
    "from sklearn import preprocessing\n",
    "from sklearn import metrics\n",
    "from sklearn import linear_model as lm\n",
    "\n",
    "pandas.set_option(\"display.precision\", 2)\n",
    "\n",
    "datafile = '../../Data/Raw/airbnb/airbnb_queens_2019.csv'\n",
    "#datafile = '../../Data/Raw/wine/winequality-red.csv'\n",
    "\n",
    "\n",
    "test_var = 'price'\n",
    "\n",
    "classifier_variables = ['price', 'reviews_per_month']\n",
    "target_variable = ['room_type']\n",
    "\n",
    "\n",
    "analysis_variables = ['latitude', 'longitude', 'price', 'minimum_nights', 'number_of_reviews', \n",
    "                      'reviews_per_month', 'calculated_host_listings_count','availability_365']"
   ]
  },
  {
   "cell_type": "markdown",
   "metadata": {},
   "source": [
    "# Load Data "
   ]
  },
  {
   "cell_type": "code",
   "execution_count": 18,
   "metadata": {},
   "outputs": [
    {
     "name": "stdout",
     "output_type": "stream",
     "text": [
      "(5666, 16)\n",
      "Index(['id', 'name', 'host_id', 'host_name', 'neighbourhood_group',\n",
      "       'neighbourhood', 'latitude', 'longitude', 'room_type', 'price',\n",
      "       'minimum_nights', 'number_of_reviews', 'last_review',\n",
      "       'reviews_per_month', 'calculated_host_listings_count',\n",
      "       'availability_365'],\n",
      "      dtype='object')\n"
     ]
    },
    {
     "data": {
      "text/html": [
       "<div>\n",
       "<style scoped>\n",
       "    .dataframe tbody tr th:only-of-type {\n",
       "        vertical-align: middle;\n",
       "    }\n",
       "\n",
       "    .dataframe tbody tr th {\n",
       "        vertical-align: top;\n",
       "    }\n",
       "\n",
       "    .dataframe thead th {\n",
       "        text-align: right;\n",
       "    }\n",
       "</style>\n",
       "<table border=\"1\" class=\"dataframe\">\n",
       "  <thead>\n",
       "    <tr style=\"text-align: right;\">\n",
       "      <th></th>\n",
       "      <th>id</th>\n",
       "      <th>name</th>\n",
       "      <th>host_id</th>\n",
       "      <th>host_name</th>\n",
       "      <th>neighbourhood_group</th>\n",
       "      <th>neighbourhood</th>\n",
       "      <th>latitude</th>\n",
       "      <th>longitude</th>\n",
       "      <th>room_type</th>\n",
       "      <th>price</th>\n",
       "      <th>minimum_nights</th>\n",
       "      <th>number_of_reviews</th>\n",
       "      <th>last_review</th>\n",
       "      <th>reviews_per_month</th>\n",
       "      <th>calculated_host_listings_count</th>\n",
       "      <th>availability_365</th>\n",
       "    </tr>\n",
       "  </thead>\n",
       "  <tbody>\n",
       "    <tr>\n",
       "      <th>0</th>\n",
       "      <td>12937</td>\n",
       "      <td>1 Stop fr. Manhattan! Private Suite,Landmark B...</td>\n",
       "      <td>50124</td>\n",
       "      <td>Orestes</td>\n",
       "      <td>Queens</td>\n",
       "      <td>Long Island City</td>\n",
       "      <td>40.75</td>\n",
       "      <td>-73.95</td>\n",
       "      <td>Private room</td>\n",
       "      <td>130</td>\n",
       "      <td>3</td>\n",
       "      <td>248</td>\n",
       "      <td>01-07-19</td>\n",
       "      <td>2.25</td>\n",
       "      <td>1</td>\n",
       "      <td>215</td>\n",
       "    </tr>\n",
       "    <tr>\n",
       "      <th>1</th>\n",
       "      <td>18198</td>\n",
       "      <td>Little King of Queens</td>\n",
       "      <td>70091</td>\n",
       "      <td>Justin</td>\n",
       "      <td>Queens</td>\n",
       "      <td>Woodside</td>\n",
       "      <td>40.75</td>\n",
       "      <td>-73.90</td>\n",
       "      <td>Private room</td>\n",
       "      <td>70</td>\n",
       "      <td>30</td>\n",
       "      <td>25</td>\n",
       "      <td>31-05-19</td>\n",
       "      <td>0.22</td>\n",
       "      <td>1</td>\n",
       "      <td>324</td>\n",
       "    </tr>\n",
       "    <tr>\n",
       "      <th>2</th>\n",
       "      <td>32363</td>\n",
       "      <td>Fully Furnished Basement Apartment</td>\n",
       "      <td>140025</td>\n",
       "      <td>Fredah</td>\n",
       "      <td>Queens</td>\n",
       "      <td>Flushing</td>\n",
       "      <td>40.74</td>\n",
       "      <td>-73.83</td>\n",
       "      <td>Private room</td>\n",
       "      <td>140</td>\n",
       "      <td>2</td>\n",
       "      <td>1</td>\n",
       "      <td>19-09-11</td>\n",
       "      <td>0.01</td>\n",
       "      <td>1</td>\n",
       "      <td>1</td>\n",
       "    </tr>\n",
       "    <tr>\n",
       "      <th>3</th>\n",
       "      <td>39593</td>\n",
       "      <td>A room w/ a Manhattan view, longer stay</td>\n",
       "      <td>110506</td>\n",
       "      <td>Myung</td>\n",
       "      <td>Queens</td>\n",
       "      <td>Sunnyside</td>\n",
       "      <td>40.75</td>\n",
       "      <td>-73.92</td>\n",
       "      <td>Private room</td>\n",
       "      <td>79</td>\n",
       "      <td>30</td>\n",
       "      <td>28</td>\n",
       "      <td>12-04-19</td>\n",
       "      <td>0.26</td>\n",
       "      <td>1</td>\n",
       "      <td>126</td>\n",
       "    </tr>\n",
       "    <tr>\n",
       "      <th>4</th>\n",
       "      <td>45910</td>\n",
       "      <td>Beautiful Queens Brownstone! - 5BR</td>\n",
       "      <td>204539</td>\n",
       "      <td>Mark</td>\n",
       "      <td>Queens</td>\n",
       "      <td>Ridgewood</td>\n",
       "      <td>40.70</td>\n",
       "      <td>-73.90</td>\n",
       "      <td>Entire home/apt</td>\n",
       "      <td>350</td>\n",
       "      <td>8</td>\n",
       "      <td>10</td>\n",
       "      <td>12-05-19</td>\n",
       "      <td>0.11</td>\n",
       "      <td>5</td>\n",
       "      <td>365</td>\n",
       "    </tr>\n",
       "  </tbody>\n",
       "</table>\n",
       "</div>"
      ],
      "text/plain": [
       "      id                                               name  host_id  \\\n",
       "0  12937  1 Stop fr. Manhattan! Private Suite,Landmark B...    50124   \n",
       "1  18198                              Little King of Queens    70091   \n",
       "2  32363                 Fully Furnished Basement Apartment   140025   \n",
       "3  39593            A room w/ a Manhattan view, longer stay   110506   \n",
       "4  45910                 Beautiful Queens Brownstone! - 5BR   204539   \n",
       "\n",
       "  host_name neighbourhood_group     neighbourhood  latitude  longitude  \\\n",
       "0   Orestes              Queens  Long Island City     40.75     -73.95   \n",
       "1    Justin              Queens          Woodside     40.75     -73.90   \n",
       "2    Fredah              Queens          Flushing     40.74     -73.83   \n",
       "3     Myung              Queens         Sunnyside     40.75     -73.92   \n",
       "4      Mark              Queens         Ridgewood     40.70     -73.90   \n",
       "\n",
       "         room_type  price  minimum_nights  number_of_reviews last_review  \\\n",
       "0     Private room    130               3                248    01-07-19   \n",
       "1     Private room     70              30                 25    31-05-19   \n",
       "2     Private room    140               2                  1    19-09-11   \n",
       "3     Private room     79              30                 28    12-04-19   \n",
       "4  Entire home/apt    350               8                 10    12-05-19   \n",
       "\n",
       "   reviews_per_month  calculated_host_listings_count  availability_365  \n",
       "0               2.25                               1               215  \n",
       "1               0.22                               1               324  \n",
       "2               0.01                               1                 1  \n",
       "3               0.26                               1               126  \n",
       "4               0.11                               5               365  "
      ]
     },
     "execution_count": 18,
     "metadata": {},
     "output_type": "execute_result"
    }
   ],
   "source": [
    "data = pandas.read_csv(datafile, sep=',')\n",
    "print(data.shape)\n",
    "print(data.columns)\n",
    "data.head()"
   ]
  },
  {
   "cell_type": "markdown",
   "metadata": {},
   "source": [
    "# Descrição dos Dados"
   ]
  },
  {
   "cell_type": "code",
   "execution_count": 7,
   "metadata": {},
   "outputs": [
    {
     "data": {
      "text/html": [
       "<div>\n",
       "<style scoped>\n",
       "    .dataframe tbody tr th:only-of-type {\n",
       "        vertical-align: middle;\n",
       "    }\n",
       "\n",
       "    .dataframe tbody tr th {\n",
       "        vertical-align: top;\n",
       "    }\n",
       "\n",
       "    .dataframe thead th {\n",
       "        text-align: right;\n",
       "    }\n",
       "</style>\n",
       "<table border=\"1\" class=\"dataframe\">\n",
       "  <thead>\n",
       "    <tr style=\"text-align: right;\">\n",
       "      <th></th>\n",
       "      <th>latitude</th>\n",
       "      <th>longitude</th>\n",
       "      <th>price</th>\n",
       "      <th>minimum_nights</th>\n",
       "      <th>number_of_reviews</th>\n",
       "      <th>reviews_per_month</th>\n",
       "      <th>calculated_host_listings_count</th>\n",
       "      <th>availability_365</th>\n",
       "    </tr>\n",
       "  </thead>\n",
       "  <tbody>\n",
       "    <tr>\n",
       "      <th>count</th>\n",
       "      <td>5666.00</td>\n",
       "      <td>5666.00</td>\n",
       "      <td>5666.00</td>\n",
       "      <td>5666.00</td>\n",
       "      <td>5666.00</td>\n",
       "      <td>4574.00</td>\n",
       "      <td>5666.00</td>\n",
       "      <td>5666.00</td>\n",
       "    </tr>\n",
       "    <tr>\n",
       "      <th>mean</th>\n",
       "      <td>40.73</td>\n",
       "      <td>-73.87</td>\n",
       "      <td>99.52</td>\n",
       "      <td>5.18</td>\n",
       "      <td>27.70</td>\n",
       "      <td>1.94</td>\n",
       "      <td>4.06</td>\n",
       "      <td>144.45</td>\n",
       "    </tr>\n",
       "    <tr>\n",
       "      <th>std</th>\n",
       "      <td>0.04</td>\n",
       "      <td>0.06</td>\n",
       "      <td>167.10</td>\n",
       "      <td>15.03</td>\n",
       "      <td>51.96</td>\n",
       "      <td>2.21</td>\n",
       "      <td>12.45</td>\n",
       "      <td>135.54</td>\n",
       "    </tr>\n",
       "    <tr>\n",
       "      <th>min</th>\n",
       "      <td>40.57</td>\n",
       "      <td>-73.96</td>\n",
       "      <td>10.00</td>\n",
       "      <td>1.00</td>\n",
       "      <td>0.00</td>\n",
       "      <td>0.01</td>\n",
       "      <td>1.00</td>\n",
       "      <td>0.00</td>\n",
       "    </tr>\n",
       "    <tr>\n",
       "      <th>25%</th>\n",
       "      <td>40.71</td>\n",
       "      <td>-73.92</td>\n",
       "      <td>50.00</td>\n",
       "      <td>1.00</td>\n",
       "      <td>1.00</td>\n",
       "      <td>0.37</td>\n",
       "      <td>1.00</td>\n",
       "      <td>2.00</td>\n",
       "    </tr>\n",
       "    <tr>\n",
       "      <th>50%</th>\n",
       "      <td>40.74</td>\n",
       "      <td>-73.90</td>\n",
       "      <td>75.00</td>\n",
       "      <td>2.00</td>\n",
       "      <td>7.00</td>\n",
       "      <td>1.21</td>\n",
       "      <td>1.00</td>\n",
       "      <td>98.00</td>\n",
       "    </tr>\n",
       "    <tr>\n",
       "      <th>75%</th>\n",
       "      <td>40.76</td>\n",
       "      <td>-73.83</td>\n",
       "      <td>110.00</td>\n",
       "      <td>3.00</td>\n",
       "      <td>32.00</td>\n",
       "      <td>2.79</td>\n",
       "      <td>3.00</td>\n",
       "      <td>286.00</td>\n",
       "    </tr>\n",
       "    <tr>\n",
       "      <th>max</th>\n",
       "      <td>40.80</td>\n",
       "      <td>-73.71</td>\n",
       "      <td>10000.00</td>\n",
       "      <td>500.00</td>\n",
       "      <td>629.00</td>\n",
       "      <td>20.94</td>\n",
       "      <td>103.00</td>\n",
       "      <td>365.00</td>\n",
       "    </tr>\n",
       "  </tbody>\n",
       "</table>\n",
       "</div>"
      ],
      "text/plain": [
       "       latitude  longitude     price  minimum_nights  number_of_reviews  \\\n",
       "count   5666.00    5666.00   5666.00         5666.00            5666.00   \n",
       "mean      40.73     -73.87     99.52            5.18              27.70   \n",
       "std        0.04       0.06    167.10           15.03              51.96   \n",
       "min       40.57     -73.96     10.00            1.00               0.00   \n",
       "25%       40.71     -73.92     50.00            1.00               1.00   \n",
       "50%       40.74     -73.90     75.00            2.00               7.00   \n",
       "75%       40.76     -73.83    110.00            3.00              32.00   \n",
       "max       40.80     -73.71  10000.00          500.00             629.00   \n",
       "\n",
       "       reviews_per_month  calculated_host_listings_count  availability_365  \n",
       "count            4574.00                         5666.00           5666.00  \n",
       "mean                1.94                            4.06            144.45  \n",
       "std                 2.21                           12.45            135.54  \n",
       "min                 0.01                            1.00              0.00  \n",
       "25%                 0.37                            1.00              2.00  \n",
       "50%                 1.21                            1.00             98.00  \n",
       "75%                 2.79                            3.00            286.00  \n",
       "max                20.94                          103.00            365.00  "
      ]
     },
     "execution_count": 7,
     "metadata": {},
     "output_type": "execute_result"
    }
   ],
   "source": [
    "data.describe()"
   ]
  },
  {
   "cell_type": "markdown",
   "metadata": {},
   "source": [
    "# Filtering Variables "
   ]
  },
  {
   "cell_type": "code",
   "execution_count": 5,
   "metadata": {},
   "outputs": [],
   "source": [
    "data = data[analysis_variables + target_variable].copy()\n",
    "n_classes = data[target_variable].nunique().values[0]"
   ]
  },
  {
   "cell_type": "markdown",
   "metadata": {},
   "source": [
    "# Normalização de dados "
   ]
  },
  {
   "cell_type": "markdown",
   "metadata": {},
   "source": [
    "## Standard Scaling"
   ]
  },
  {
   "cell_type": "code",
   "execution_count": 9,
   "metadata": {},
   "outputs": [
    {
     "ename": "ValueError",
     "evalue": "could not convert string to float: 'Private room'",
     "output_type": "error",
     "traceback": [
      "\u001b[1;31m---------------------------------------------------------------------------\u001b[0m",
      "\u001b[1;31mValueError\u001b[0m                                Traceback (most recent call last)",
      "\u001b[1;32m<ipython-input-9-8776a3e8df39>\u001b[0m in \u001b[0;36m<module>\u001b[1;34m\u001b[0m\n\u001b[0;32m      1\u001b[0m \u001b[0mscaler\u001b[0m \u001b[1;33m=\u001b[0m \u001b[0mpreprocessing\u001b[0m\u001b[1;33m.\u001b[0m\u001b[0mStandardScaler\u001b[0m\u001b[1;33m(\u001b[0m\u001b[1;33m)\u001b[0m\u001b[1;33m\u001b[0m\u001b[1;33m\u001b[0m\u001b[0m\n\u001b[1;32m----> 2\u001b[1;33m \u001b[0mscaler\u001b[0m\u001b[1;33m.\u001b[0m\u001b[0mfit\u001b[0m\u001b[1;33m(\u001b[0m\u001b[0mdata\u001b[0m\u001b[1;33m)\u001b[0m\u001b[1;33m\u001b[0m\u001b[1;33m\u001b[0m\u001b[0m\n\u001b[0m\u001b[0;32m      3\u001b[0m \u001b[0mstd_normed_data\u001b[0m \u001b[1;33m=\u001b[0m \u001b[0mpandas\u001b[0m\u001b[1;33m.\u001b[0m\u001b[0mDataFrame\u001b[0m\u001b[1;33m(\u001b[0m\u001b[0mscaler\u001b[0m\u001b[1;33m.\u001b[0m\u001b[0mtransform\u001b[0m\u001b[1;33m(\u001b[0m\u001b[0mdata\u001b[0m\u001b[1;33m)\u001b[0m\u001b[1;33m,\u001b[0m \u001b[0mcolumns\u001b[0m\u001b[1;33m=\u001b[0m\u001b[0mdata\u001b[0m\u001b[1;33m.\u001b[0m\u001b[0mcolumns\u001b[0m\u001b[1;33m)\u001b[0m\u001b[1;33m\u001b[0m\u001b[1;33m\u001b[0m\u001b[0m\n\u001b[0;32m      4\u001b[0m \u001b[1;33m\u001b[0m\u001b[0m\n\u001b[0;32m      5\u001b[0m \u001b[1;31m# Plot distributions\u001b[0m\u001b[1;33m\u001b[0m\u001b[1;33m\u001b[0m\u001b[1;33m\u001b[0m\u001b[0m\n",
      "\u001b[1;32m~\\anaconda3\\lib\\site-packages\\sklearn\\preprocessing\\_data.py\u001b[0m in \u001b[0;36mfit\u001b[1;34m(self, X, y)\u001b[0m\n\u001b[0;32m    667\u001b[0m         \u001b[1;31m# Reset internal state before fitting\u001b[0m\u001b[1;33m\u001b[0m\u001b[1;33m\u001b[0m\u001b[1;33m\u001b[0m\u001b[0m\n\u001b[0;32m    668\u001b[0m         \u001b[0mself\u001b[0m\u001b[1;33m.\u001b[0m\u001b[0m_reset\u001b[0m\u001b[1;33m(\u001b[0m\u001b[1;33m)\u001b[0m\u001b[1;33m\u001b[0m\u001b[1;33m\u001b[0m\u001b[0m\n\u001b[1;32m--> 669\u001b[1;33m         \u001b[1;32mreturn\u001b[0m \u001b[0mself\u001b[0m\u001b[1;33m.\u001b[0m\u001b[0mpartial_fit\u001b[0m\u001b[1;33m(\u001b[0m\u001b[0mX\u001b[0m\u001b[1;33m,\u001b[0m \u001b[0my\u001b[0m\u001b[1;33m)\u001b[0m\u001b[1;33m\u001b[0m\u001b[1;33m\u001b[0m\u001b[0m\n\u001b[0m\u001b[0;32m    670\u001b[0m \u001b[1;33m\u001b[0m\u001b[0m\n\u001b[0;32m    671\u001b[0m     \u001b[1;32mdef\u001b[0m \u001b[0mpartial_fit\u001b[0m\u001b[1;33m(\u001b[0m\u001b[0mself\u001b[0m\u001b[1;33m,\u001b[0m \u001b[0mX\u001b[0m\u001b[1;33m,\u001b[0m \u001b[0my\u001b[0m\u001b[1;33m=\u001b[0m\u001b[1;32mNone\u001b[0m\u001b[1;33m)\u001b[0m\u001b[1;33m:\u001b[0m\u001b[1;33m\u001b[0m\u001b[1;33m\u001b[0m\u001b[0m\n",
      "\u001b[1;32m~\\anaconda3\\lib\\site-packages\\sklearn\\preprocessing\\_data.py\u001b[0m in \u001b[0;36mpartial_fit\u001b[1;34m(self, X, y)\u001b[0m\n\u001b[0;32m    698\u001b[0m         X = check_array(X, accept_sparse=('csr', 'csc'),\n\u001b[0;32m    699\u001b[0m                         \u001b[0mestimator\u001b[0m\u001b[1;33m=\u001b[0m\u001b[0mself\u001b[0m\u001b[1;33m,\u001b[0m \u001b[0mdtype\u001b[0m\u001b[1;33m=\u001b[0m\u001b[0mFLOAT_DTYPES\u001b[0m\u001b[1;33m,\u001b[0m\u001b[1;33m\u001b[0m\u001b[1;33m\u001b[0m\u001b[0m\n\u001b[1;32m--> 700\u001b[1;33m                         force_all_finite='allow-nan')\n\u001b[0m\u001b[0;32m    701\u001b[0m \u001b[1;33m\u001b[0m\u001b[0m\n\u001b[0;32m    702\u001b[0m         \u001b[1;31m# Even in the case of `with_mean=False`, we update the mean anyway\u001b[0m\u001b[1;33m\u001b[0m\u001b[1;33m\u001b[0m\u001b[1;33m\u001b[0m\u001b[0m\n",
      "\u001b[1;32m~\\anaconda3\\lib\\site-packages\\sklearn\\utils\\validation.py\u001b[0m in \u001b[0;36mcheck_array\u001b[1;34m(array, accept_sparse, accept_large_sparse, dtype, order, copy, force_all_finite, ensure_2d, allow_nd, ensure_min_samples, ensure_min_features, warn_on_dtype, estimator)\u001b[0m\n\u001b[0;32m    529\u001b[0m                     \u001b[0marray\u001b[0m \u001b[1;33m=\u001b[0m \u001b[0marray\u001b[0m\u001b[1;33m.\u001b[0m\u001b[0mastype\u001b[0m\u001b[1;33m(\u001b[0m\u001b[0mdtype\u001b[0m\u001b[1;33m,\u001b[0m \u001b[0mcasting\u001b[0m\u001b[1;33m=\u001b[0m\u001b[1;34m\"unsafe\"\u001b[0m\u001b[1;33m,\u001b[0m \u001b[0mcopy\u001b[0m\u001b[1;33m=\u001b[0m\u001b[1;32mFalse\u001b[0m\u001b[1;33m)\u001b[0m\u001b[1;33m\u001b[0m\u001b[1;33m\u001b[0m\u001b[0m\n\u001b[0;32m    530\u001b[0m                 \u001b[1;32melse\u001b[0m\u001b[1;33m:\u001b[0m\u001b[1;33m\u001b[0m\u001b[1;33m\u001b[0m\u001b[0m\n\u001b[1;32m--> 531\u001b[1;33m                     \u001b[0marray\u001b[0m \u001b[1;33m=\u001b[0m \u001b[0mnp\u001b[0m\u001b[1;33m.\u001b[0m\u001b[0masarray\u001b[0m\u001b[1;33m(\u001b[0m\u001b[0marray\u001b[0m\u001b[1;33m,\u001b[0m \u001b[0morder\u001b[0m\u001b[1;33m=\u001b[0m\u001b[0morder\u001b[0m\u001b[1;33m,\u001b[0m \u001b[0mdtype\u001b[0m\u001b[1;33m=\u001b[0m\u001b[0mdtype\u001b[0m\u001b[1;33m)\u001b[0m\u001b[1;33m\u001b[0m\u001b[1;33m\u001b[0m\u001b[0m\n\u001b[0m\u001b[0;32m    532\u001b[0m             \u001b[1;32mexcept\u001b[0m \u001b[0mComplexWarning\u001b[0m\u001b[1;33m:\u001b[0m\u001b[1;33m\u001b[0m\u001b[1;33m\u001b[0m\u001b[0m\n\u001b[0;32m    533\u001b[0m                 raise ValueError(\"Complex data not supported\\n\"\n",
      "\u001b[1;32m~\\anaconda3\\lib\\site-packages\\numpy\\core\\_asarray.py\u001b[0m in \u001b[0;36masarray\u001b[1;34m(a, dtype, order)\u001b[0m\n\u001b[0;32m     83\u001b[0m \u001b[1;33m\u001b[0m\u001b[0m\n\u001b[0;32m     84\u001b[0m     \"\"\"\n\u001b[1;32m---> 85\u001b[1;33m     \u001b[1;32mreturn\u001b[0m \u001b[0marray\u001b[0m\u001b[1;33m(\u001b[0m\u001b[0ma\u001b[0m\u001b[1;33m,\u001b[0m \u001b[0mdtype\u001b[0m\u001b[1;33m,\u001b[0m \u001b[0mcopy\u001b[0m\u001b[1;33m=\u001b[0m\u001b[1;32mFalse\u001b[0m\u001b[1;33m,\u001b[0m \u001b[0morder\u001b[0m\u001b[1;33m=\u001b[0m\u001b[0morder\u001b[0m\u001b[1;33m)\u001b[0m\u001b[1;33m\u001b[0m\u001b[1;33m\u001b[0m\u001b[0m\n\u001b[0m\u001b[0;32m     86\u001b[0m \u001b[1;33m\u001b[0m\u001b[0m\n\u001b[0;32m     87\u001b[0m \u001b[1;33m\u001b[0m\u001b[0m\n",
      "\u001b[1;31mValueError\u001b[0m: could not convert string to float: 'Private room'"
     ]
    }
   ],
   "source": [
    "scaler = preprocessing.StandardScaler()\n",
    "scaler.fit(data)\n",
    "std_normed_data = pandas.DataFrame(scaler.transform(data), columns=data.columns)\n",
    "\n",
    "# Plot distributions\n",
    "plt.figure(figsize=(4,4))\n",
    "sns.distplot(data[test_var], label='Dados Originais', )\n",
    "sns.distplot(std_normed_data[test_var], label='Standard Scaling')\n",
    "plt.legend()"
   ]
  },
  {
   "cell_type": "markdown",
   "metadata": {},
   "source": [
    "## Normalização por Min/Max "
   ]
  },
  {
   "cell_type": "code",
   "execution_count": null,
   "metadata": {},
   "outputs": [],
   "source": [
    "scaler = preprocessing.MinMaxScaler()\n",
    "scaler.fit(data)\n",
    "minmax_normed_data = pandas.DataFrame(scaler.transform(data), columns=data.columns)\n",
    "\n",
    "# Plot distributions\n",
    "plt.figure(figsize=(4,4))\n",
    "sns.distplot(data[test_var], label='Dados Originais', )\n",
    "sns.distplot(minmax_normed_data[test_var], label='Norm. Min/Max')\n",
    "plt.legend()"
   ]
  },
  {
   "cell_type": "markdown",
   "metadata": {},
   "source": [
    "# Normalização Logarítmica"
   ]
  },
  {
   "cell_type": "code",
   "execution_count": null,
   "metadata": {},
   "outputs": [],
   "source": [
    "\n",
    "normed_data = data.copy()\n",
    "normed_data[test_var] = np.log1p(data[test_var])\n",
    "\n",
    "# Plot distributions\n",
    "plt.figure(figsize=(6,4))\n",
    "sns.distplot(data[test_var], label='Dados Originais', )\n",
    "ax = plt.gca()\n",
    "ax.xaxis.label.set_color('b')\n",
    "ax.tick_params(axis='x', colors='b')\n",
    "ax.tick_params(axis='y', colors='b')\n",
    "\n",
    "ax2 = ax.twinx()\n",
    "ax3 = ax2.twiny()\n",
    "sns.distplot(normed_data[test_var],color='g', label='Norm. por Log.')\n",
    "ax3.xaxis.label.set_color('g')\n",
    "ax3.tick_params(axis='x', colors='g')\n",
    "ax2.tick_params(axis='y', colors='g')\n",
    "ax.legend()\n",
    "ax3.legend(loc='center right')\n"
   ]
  },
  {
   "cell_type": "markdown",
   "metadata": {},
   "source": [
    "# Estimativa de valor médio"
   ]
  },
  {
   "cell_type": "markdown",
   "metadata": {},
   "source": [
    "Qual é o Índice médio de acidez de vinhos tintos?"
   ]
  },
  {
   "cell_type": "code",
   "execution_count": 13,
   "metadata": {},
   "outputs": [
    {
     "name": "stdout",
     "output_type": "stream",
     "text": [
      "Preço médio: 99.52\n",
      "\t1)Preço médio amostral ( 200 ): 95.43\n",
      "\t2)Preço médio amostral ( 200 ): 107.10\n",
      "\t3)Preço médio amostral ( 200 ): 103.61\n"
     ]
    }
   ],
   "source": [
    "n = 200\n",
    "print('Preço médio: %.2f'%data[test_var].mean())\n",
    "print('\\t1)Preço médio amostral (',n,'): %.2f'%data.sample(n)[test_var].mean())\n",
    "print('\\t2)Preço médio amostral (',n,'): %.2f'%data.sample(n)[test_var].mean())\n",
    "print('\\t3)Preço médio amostral (',n,'): %.2f'%data.sample(n)[test_var].mean())"
   ]
  },
  {
   "cell_type": "markdown",
   "metadata": {},
   "source": [
    "Calculando a distribuição do valor médio da população para diversos sorteios de amostras. "
   ]
  },
  {
   "cell_type": "code",
   "execution_count": 19,
   "metadata": {},
   "outputs": [
    {
     "name": "stdout",
     "output_type": "stream",
     "text": [
      "Valor médio da amostra  :  99.4201025\n",
      "Valor médio da população:  99.51764913519237\n",
      "Erro padrão da amostra  :  11.56350695948222\n",
      "Erro padrão estimado    :  11.815906699624682\n"
     ]
    },
    {
     "data": {
      "text/plain": [
       "<matplotlib.legend.Legend at 0x26807d52888>"
      ]
     },
     "execution_count": 19,
     "metadata": {},
     "output_type": "execute_result"
    },
    {
     "data": {
      "image/png": "[encoded data removed]",
      "text/plain": [
       "<Figure size 432x288 with 1 Axes>"
      ]
     },
     "metadata": {
      "needs_background": "light"
     },
     "output_type": "display_data"
    }
   ],
   "source": [
    "n_test = 10000\n",
    "n = 200\n",
    "mean_values = []\n",
    "for i in range(n_test):\n",
    "    mean_values.append(data.sample(n)[test_var].mean())\n",
    "ref_mean_samples = np.array(mean_values)\n",
    "\n",
    "print('Valor médio da amostra  : ', ref_mean_samples.mean())\n",
    "print('Valor médio da população: ', data[test_var].mean())\n",
    "print('Erro padrão da amostra  : ', ref_mean_samples.std())\n",
    "print('Erro padrão estimado    : ', data[test_var].std() / np.sqrt(n))\n",
    "\n",
    "# Plot\n",
    "ax = sns.distplot(ref_mean_samples)\n",
    "ax.plot([data[test_var].mean(), data[test_var].mean()], ax.axis()[2:],\n",
    "        '--k', label='Valor Médio')\n",
    "ax.legend()\n"
   ]
  },
  {
   "cell_type": "markdown",
   "metadata": {},
   "source": [
    "Visualizando o impacto do tamanho da amostra para a estimativa do valor médio."
   ]
  },
  {
   "cell_type": "code",
   "execution_count": 10,
   "metadata": {},
   "outputs": [
    {
     "data": {
      "text/plain": [
       "<matplotlib.legend.Legend at 0x275f31ae808>"
      ]
     },
     "execution_count": 10,
     "metadata": {},
     "output_type": "execute_result"
    },
    {
     "data": {
      "image/png": "[encoded data removed]",
      "text/plain": [
       "<Figure size 432x288 with 1 Axes>"
      ]
     },
     "metadata": {
      "needs_background": "light"
     },
     "output_type": "display_data"
    }
   ],
   "source": [
    "n_test = 10000\n",
    "\n",
    "for ntrial in [10, 100, 200, 500, 1000]:\n",
    "    mean_values = []\n",
    "    for i in range(n_test):\n",
    "        mean_values.append(data.sample(ntrial)[test_var].mean())\n",
    "    # Plot\n",
    "    ax = sns.distplot(mean_values, label='#amostra: %i'%ntrial)\n",
    "ax.plot([data[test_var].mean(), data[test_var].mean()], ax.axis()[2:],\n",
    "        '--k', label='Valor Médio')\n",
    "ax.legend()\n",
    "\n"
   ]
  },
  {
   "cell_type": "markdown",
   "metadata": {},
   "source": [
    "Visualizando o impacto da quantidade de testes para a estimativa do valor médio da população. "
   ]
  },
  {
   "cell_type": "code",
   "execution_count": 11,
   "metadata": {},
   "outputs": [
    {
     "data": {
      "text/plain": [
       "<matplotlib.legend.Legend at 0x275f3513a08>"
      ]
     },
     "execution_count": 11,
     "metadata": {},
     "output_type": "execute_result"
    },
    {
     "data": {
      "image/png": "[encoded data removed]",
      "text/plain": [
       "<Figure size 432x288 with 1 Axes>"
      ]
     },
     "metadata": {
      "needs_background": "light"
     },
     "output_type": "display_data"
    }
   ],
   "source": [
    "ntrial = 200\n",
    "for n_test in [10, 100, 500, 1000, 10000]:\n",
    "    mean_values = []\n",
    "    for i in range(n_test):\n",
    "        mean_values.append(data.sample(ntrial)[test_var].mean())\n",
    "    # Plot\n",
    "    ax = sns.distplot(mean_values, label='#test: %i'%n_test)\n",
    "ax.plot([data[test_var].mean(), data[test_var].mean()], ax.axis()[2:],\n",
    "        '--k', label='Valor Médio')\n",
    "ax.legend()\n"
   ]
  },
  {
   "cell_type": "markdown",
   "metadata": {},
   "source": [
    "# Bootstraping"
   ]
  },
  {
   "cell_type": "markdown",
   "metadata": {},
   "source": [
    "Método de estimativa de parâmetros de uma população por bootstrapping."
   ]
  },
  {
   "cell_type": "code",
   "execution_count": 12,
   "metadata": {},
   "outputs": [
    {
     "name": "stdout",
     "output_type": "stream",
     "text": [
      "Valor médio população     : 99.51764913519237\n",
      "Estimativa amostral (200) : 91.22\n",
      "Estimativa bootstrap      : 100.60130603600423\n"
     ]
    }
   ],
   "source": [
    "def meanBootstrap(X, n_trials):\n",
    "    mean_estimates = []\n",
    "    for i in range (n_trials):\n",
    "        sample = [X[j] for j in np.random.randint(len(X), size=len(X))]\n",
    "    mean_estimates.append(np.mean(sample))\n",
    "    return mean_estimates\n",
    "\n",
    "m = meanBootstrap(data[test_var].values, 10000)\n",
    "print(\"Valor médio população     :\", data[test_var].mean())\n",
    "print(\"Estimativa amostral (200) :\", data.sample(200)[test_var].mean())\n",
    "print(\"Estimativa bootstrap      :\", np.mean(m))"
   ]
  },
  {
   "cell_type": "markdown",
   "metadata": {},
   "source": [
    "# Intervalo de Confiança "
   ]
  },
  {
   "cell_type": "markdown",
   "metadata": {},
   "source": [
    "Estimativa do intervalo de confiança por aproximação Normal."
   ]
  },
  {
   "cell_type": "code",
   "execution_count": 13,
   "metadata": {},
   "outputs": [
    {
     "name": "stdout",
     "output_type": "stream",
     "text": [
      "Valor médio população :  99.51764913519237\n",
      "Média amostral        :  99.597502\n",
      "Intervalo de confiança:  (95.16654139580754, 103.8687568745772)\n"
     ]
    },
    {
     "data": {
      "text/plain": [
       "<matplotlib.legend.Legend at 0x275f3080ac8>"
      ]
     },
     "execution_count": 13,
     "metadata": {},
     "output_type": "execute_result"
    },
    {
     "data": {
      "image/png": "[encoded data removed]",
      "text/plain": [
       "<Figure size 432x288 with 1 Axes>"
      ]
     },
     "metadata": {
      "needs_background": "light"
     },
     "output_type": "display_data"
    }
   ],
   "source": [
    "mean_val = data[test_var].mean()\n",
    "standard_error = data[test_var].std() / np.sqrt(data.shape[0])\n",
    "ci = (mean_val - standard_error*1.96, mean_val + standard_error*1.96)\n",
    "print('Valor médio população : ', mean_val)\n",
    "print('Média amostral        : ', ref_mean_samples.mean())\n",
    "print('Intervalo de confiança: ', ci)\n",
    "\n",
    "ax = sns.distplot(ref_mean_samples)\n",
    "ax.plot([mean_val, mean_val], ax.axis()[2:], '-k', label='Valor Médio')\n",
    "ax.plot([ci[0], ci[0]], ax.axis()[2:], '--k', label='Intervalo Confiança')\n",
    "ax.plot([ci[1], ci[1]], ax.axis()[2:], '--k',)\n",
    "ax.legend()"
   ]
  },
  {
   "cell_type": "markdown",
   "metadata": {},
   "source": [
    "# Teste de Hipóteses "
   ]
  },
  {
   "cell_type": "markdown",
   "metadata": {},
   "source": [
    "## Por Intervalo de Confiança "
   ]
  },
  {
   "cell_type": "code",
   "execution_count": 20,
   "metadata": {},
   "outputs": [
    {
     "name": "stdout",
     "output_type": "stream",
     "text": [
      "Número de sorteios fora do I.C.   :  19 em 200\n",
      "Proporção de sorteios fora do I.C.: 9.5 %\n"
     ]
    },
    {
     "data": {
      "text/plain": [
       "<matplotlib.legend.Legend at 0x268087ffdc8>"
      ]
     },
     "execution_count": 20,
     "metadata": {},
     "output_type": "execute_result"
    },
    {
     "data": {
      "image/png": "[encoded data removed]",
      "text/plain": [
       "<Figure size 864x288 with 1 Axes>"
      ]
     },
     "metadata": {
      "needs_background": "light"
     },
     "output_type": "display_data"
    }
   ],
   "source": [
    "n_test = 200\n",
    "ntrial = 200\n",
    "\n",
    "mean_values = []\n",
    "conf_values = []\n",
    "for i in range(n_test):\n",
    "    data_sample = data.sample(ntrial)[test_var]\n",
    "    mean_values.append(data_sample.mean())\n",
    "    standard_error = data_sample.std() / np.sqrt(ntrial)\n",
    "    conf_values.append([standard_error*1.96, standard_error*1.96])\n",
    "\n",
    "mean_values = np.array(mean_values)\n",
    "conf_values = np.array(conf_values).T \n",
    "idx = ((data[test_var].mean() < (mean_values - conf_values[0])) |\n",
    "       (data[test_var].mean() > (mean_values + conf_values[1])))\n",
    "x_trials = np.arange(n_test)\n",
    "\n",
    "print('Número de sorteios fora do I.C.   : ', idx.sum(), 'em', idx.shape[0])\n",
    "print('Proporção de sorteios fora do I.C.: %.1f'%(idx.sum()/idx.shape[0] * 100),'%')\n",
    "\n",
    "# Plot\n",
    "plt.figure(figsize=(12,4))\n",
    "plt.errorbar(x_trials, mean_values, yerr=conf_values, marker='o')\n",
    "plt.errorbar(x_trials[idx], mean_values[idx], yerr=conf_values[:, idx],\n",
    "             marker='*',color='r', linestyle='', label='Fora do I.C.')\n",
    "plt.plot([0, n_test], [data[test_var].mean(), data[test_var].mean()],\n",
    "        '-k',lw=3, label='Valor Médio')\n",
    "plt.xlabel('Sorteio')\n",
    "plt.ylabel(test_var)\n",
    "plt.legend()"
   ]
  },
  {
   "cell_type": "markdown",
   "metadata": {},
   "source": [
    "Hipotese HA: Vinhos de Baixa e Alta Qualidade se Comportam Diferente sob a Variável Testada "
   ]
  },
  {
   "cell_type": "code",
   "execution_count": null,
   "metadata": {},
   "outputs": [],
   "source": []
  },
  {
   "cell_type": "code",
   "execution_count": 23,
   "metadata": {},
   "outputs": [],
   "source": [
    "if n_classes == 2:\n",
    "    class_lo = data[data.quality <= 5].copy()\n",
    "    class_up = data[data.quality  > 5].copy()\n",
    "\n",
    "    class_lo_mean = class_lo[test_var].mean()\n",
    "    class_lo_ci   = class_lo[test_var].std()/np.sqrt(class_lo.shape[0]) * 1.96\n",
    "\n",
    "\n",
    "    print('Classe Notas Altas : %.4f'%class_up[test_var].mean())\n",
    "    print('Classe Notas Baixas: %.4f'%class_lo_mean)\n",
    "    print('\\tI.C.: de %.4f'%(class_lo_mean - class_lo_ci), ' a %.4f'%(class_lo_mean + class_lo_ci))\n",
    "\n",
    "    sns.distplot(class_lo[test_var], label='Baixa Qualidade')\n",
    "    sns.distplot(class_up[test_var], label='Alta Qualidade')\n",
    "    plt.legend()"
   ]
  },
  {
   "cell_type": "markdown",
   "metadata": {},
   "source": [
    "## Por p-valor "
   ]
  },
  {
   "cell_type": "markdown",
   "metadata": {},
   "source": [
    "Qual é a probabilidade de que a diferença de acidez do vinho seja sorte?"
   ]
  },
  {
   "cell_type": "code",
   "execution_count": 25,
   "metadata": {},
   "outputs": [],
   "source": [
    "if n_classes==2:\n",
    "    test_var_lo = class_lo[test_var].values\n",
    "    test_var_up = class_up[test_var].values\n",
    "    mean_diff = np.abs(test_var_up.mean() - test_var_lo.mean())\n",
    "\n",
    "    # pooling distributions\n",
    "    pool = np.concatenate([test_var_up, test_var_lo])\n",
    "    np.random.shuffle(pool)\n",
    "\n",
    "    #sample generation\n",
    "\n",
    "    N = 10000 # number of samples\n",
    "    n = np.min([test_var_up.shape[0], test_var_lo.shape[0]])\n",
    "    diff = [0]*N\n",
    "    for i in range(N):\n",
    "        p1 = [np.random.choice(pool) for _ in range(n)]\n",
    "        p2 = [np.random.choice(pool) for _ in range(n)]\n",
    "        diff[i] = np.abs(np.mean(p1) - np.mean(p2))\n",
    "\n",
    "\n",
    "    # counting differences larger than the observed one\n",
    "    diff2 = np.array(diff)\n",
    "    w1 = np.where(diff2 > mean_diff)[0]\n",
    "\n",
    "    p_value = len(w1)/float(N)\n",
    "\n",
    "    print('Simulação do p-valor: ', p_value)\n",
    "    print('Diferença: ', mean_diff)\n",
    "\n",
    "    if p_value < 0.05:\n",
    "        print('O efeito observado é provável')\n",
    "    else:\n",
    "        print('O efeito é improvável')    "
   ]
  },
  {
   "cell_type": "markdown",
   "metadata": {},
   "source": [
    "# Regressão Logística "
   ]
  },
  {
   "cell_type": "code",
   "execution_count": 46,
   "metadata": {},
   "outputs": [],
   "source": [
    "\n",
    "classifier_variables = ['price', 'minimum_nights']\n",
    "target_variable = ['room_type']\n",
    "\n",
    "n_classes = data[target_variable].nunique().values[0]\n",
    "\n",
    "x_data = data[classifier_variables].copy().values\n",
    "y_data = data[target_variable].copy().values\n",
    "if n_classes == 2:\n",
    "    y_data[y_data <= 5] = 0\n",
    "    y_data[y_data  > 5] = 1\n",
    "\n",
    "\n",
    "cat_encoder = preprocessing.OrdinalEncoder()\n",
    "cat_encoder.fit(y_data)\n",
    "y_data = cat_encoder.transform(y_data)\n",
    "y_data = y_data.reshape(-1)\n",
    "\n",
    "\n",
    "model = lm.LogisticRegression(solver='lbfgs')\n",
    "model.fit(x_data, y_data)\n",
    "\n",
    "if n_classes == 2:\n",
    "    y_hat = model.predict_proba(x_data)[:,1]\n",
    "else:\n",
    "    y_hat = model.predict_proba(x_data)\n",
    "\n"
   ]
  },
  {
   "cell_type": "code",
   "execution_count": 52,
   "metadata": {},
   "outputs": [
    {
     "data": {
      "text/plain": [
       "3"
      ]
     },
     "execution_count": 52,
     "metadata": {},
     "output_type": "execute_result"
    }
   ],
   "source": [
    "data[target_variable].nunique().values[0]"
   ]
  },
  {
   "cell_type": "markdown",
   "metadata": {},
   "source": [
    "## Plot Distribution "
   ]
  },
  {
   "cell_type": "code",
   "execution_count": 29,
   "metadata": {},
   "outputs": [
    {
     "data": {
      "text/plain": [
       "<matplotlib.legend.Legend at 0x275f3830488>"
      ]
     },
     "execution_count": 29,
     "metadata": {},
     "output_type": "execute_result"
    },
    {
     "data": {
      "image/png": "[encoded data removed]",
      "text/plain": [
       "<Figure size 432x288 with 1 Axes>"
      ]
     },
     "metadata": {
      "needs_background": "light"
     },
     "output_type": "display_data"
    }
   ],
   "source": [
    "for i in range(n_classes):\n",
    "    sns.distplot(y_hat[y_data == i, i], label='Classe '+cat_encoder.categories_[0][i])\n",
    "\n",
    "plt.title('Regressão Logística - ' + ','.join(classifier_variables))\n",
    "plt.ylabel('Densidade Estimada KDE')\n",
    "plt.xlabel('Probabilidade Vinho Alta Qualidade')\n",
    "\n",
    "plt.legend()"
   ]
  },
  {
   "cell_type": "markdown",
   "metadata": {},
   "source": [
    "## Matriz de Confusão"
   ]
  },
  {
   "cell_type": "code",
   "execution_count": 28,
   "metadata": {},
   "outputs": [
    {
     "data": {
      "text/html": [
       "<div>\n",
       "<style scoped>\n",
       "    .dataframe tbody tr th:only-of-type {\n",
       "        vertical-align: middle;\n",
       "    }\n",
       "\n",
       "    .dataframe tbody tr th {\n",
       "        vertical-align: top;\n",
       "    }\n",
       "\n",
       "    .dataframe thead th {\n",
       "        text-align: right;\n",
       "    }\n",
       "</style>\n",
       "<table border=\"1\" class=\"dataframe\">\n",
       "  <thead>\n",
       "    <tr style=\"text-align: right;\">\n",
       "      <th></th>\n",
       "      <th>Model Entire home/apt</th>\n",
       "      <th>Model Private room</th>\n",
       "      <th>Model Shared room</th>\n",
       "      <th>Real Total</th>\n",
       "    </tr>\n",
       "  </thead>\n",
       "  <tbody>\n",
       "    <tr>\n",
       "      <th>Real Entire home/apt</th>\n",
       "      <td>1115</td>\n",
       "      <td>981</td>\n",
       "      <td>0</td>\n",
       "      <td>2096</td>\n",
       "    </tr>\n",
       "    <tr>\n",
       "      <th>Real Private room</th>\n",
       "      <td>221</td>\n",
       "      <td>3151</td>\n",
       "      <td>0</td>\n",
       "      <td>3372</td>\n",
       "    </tr>\n",
       "    <tr>\n",
       "      <th>Real Shared room</th>\n",
       "      <td>11</td>\n",
       "      <td>187</td>\n",
       "      <td>0</td>\n",
       "      <td>198</td>\n",
       "    </tr>\n",
       "    <tr>\n",
       "      <th>Model Total</th>\n",
       "      <td>1347</td>\n",
       "      <td>4319</td>\n",
       "      <td>0</td>\n",
       "      <td>5666</td>\n",
       "    </tr>\n",
       "  </tbody>\n",
       "</table>\n",
       "</div>"
      ],
      "text/plain": [
       "                      Model Entire home/apt  Model Private room  \\\n",
       "Real Entire home/apt                   1115                 981   \n",
       "Real Private room                       221                3151   \n",
       "Real Shared room                         11                 187   \n",
       "Model Total                            1347                4319   \n",
       "\n",
       "                      Model Shared room  Real Total  \n",
       "Real Entire home/apt                  0        2096  \n",
       "Real Private room                     0        3372  \n",
       "Real Shared room                      0         198  \n",
       "Model Total                           0        5666  "
      ]
     },
     "execution_count": 28,
     "metadata": {},
     "output_type": "execute_result"
    }
   ],
   "source": [
    "\n",
    "if n_classes == 2:\n",
    "    y_decision = y_hat > 0.5\n",
    "else:\n",
    "    y_decision = np.argmax(y_hat, axis=1)\n",
    "\n",
    "col_names = ['Model ' + s for s in cat_encoder.categories_[0]]\n",
    "idx_names = ['Real ' + s for s in cat_encoder.categories_[0]]\n",
    "\n",
    "cmat = metrics.confusion_matrix(y_data, y_decision)\n",
    "cmat = pandas.DataFrame(cmat, index=idx_names,\n",
    "                              columns=col_names)\n",
    "cmat['Real Total'] = cmat.sum(axis=1)\n",
    "cmat.loc['Model Total',:] = cmat.sum(axis=0)\n",
    "cmat = cmat.astype(int)\n",
    "\n",
    "cmat"
   ]
  }
 ],
 "metadata": {
  "kernelspec": {
   "display_name": "Python 3",
   "language": "python",
   "name": "python3"
  },
  "language_info": {
   "codemirror_mode": {
    "name": "ipython",
    "version": 3
   },
   "file_extension": ".py",
   "mimetype": "text/x-python",
   "name": "python",
   "nbconvert_exporter": "python",
   "pygments_lexer": "ipython3",
   "version": "3.7.6"
  }
 },
 "nbformat": 4,
 "nbformat_minor": 4
}
