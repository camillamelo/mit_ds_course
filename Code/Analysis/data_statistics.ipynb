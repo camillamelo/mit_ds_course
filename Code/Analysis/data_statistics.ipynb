{
 "cells": [
  {
   "cell_type": "code",
   "execution_count": null,
   "metadata": {},
   "outputs": [],
   "source": [
    "import pandas\n",
    "import numpy as np\n",
    "import matplotlib.pyplot as plt\n",
    "import seaborn as sns\n",
    "import warnings\n",
    "warnings.filterwarnings('ignore')\n",
    "from wordcloud import WordCloud\n",
    "from scipy.stats import norm\n",
    "from scipy import stats\n",
    "from sklearn import preprocessing as pp\n",
    "\n",
    "\n",
    "pandas.set_option(\"display.precision\", 2)\n",
    "\n",
    "input_table = '../../Data/Processed/airbnb/bigtable_data.parquet'"
   ]
  },
  {
   "cell_type": "markdown",
   "metadata": {},
   "source": [
    "# Load Data "
   ]
  },
  {
   "cell_type": "code",
   "execution_count": null,
   "metadata": {},
   "outputs": [],
   "source": [
    "df_airbnb = pandas.read_parquet(input_table)\n",
    "print('data shape:', df_airbnb.shape)\n",
    "print('data columns:', df_airbnb.columns.tolist())\n",
    "df_airbnb.head()"
   ]
  },
  {
   "cell_type": "markdown",
   "metadata": {},
   "source": [
    "# Data Description "
   ]
  },
  {
   "cell_type": "code",
   "execution_count": null,
   "metadata": {},
   "outputs": [],
   "source": [
    "df_airbnb.describe()"
   ]
  },
  {
   "cell_type": "markdown",
   "metadata": {},
   "source": [
    "# Distribuições"
   ]
  },
  {
   "cell_type": "code",
   "execution_count": null,
   "metadata": {},
   "outputs": [],
   "source": [
    "num_variables = ['latitude', 'longitude', 'price','minimum_nights','number_of_reviews','reviews_per_month',\n",
    "                 'calculated_host_listings_count','availability_365']"
   ]
  },
  {
   "cell_type": "code",
   "execution_count": null,
   "metadata": {},
   "outputs": [],
   "source": [
    "for cname in num_variables:\n",
    "    plt.figure()\n",
    "    df_airbnb[cname].plot.kde(legend=True)\n",
    "    plt.title(cname)"
   ]
  },
  {
   "cell_type": "code",
   "execution_count": null,
   "metadata": {},
   "outputs": [],
   "source": [
    "for cname in num_variables:\n",
    "    plt.figure()\n",
    "    df_airbnb.groupby('room_type')[cname].plot.kde(figsize=(16,4), legend=True);\n",
    "    plt.legend(ncol = 3)\n",
    "    plt.title(cname)"
   ]
  },
  {
   "cell_type": "code",
   "execution_count": null,
   "metadata": {},
   "outputs": [],
   "source": [
    "# Visualizing the distribution for every \"feature\"\n",
    "df_airbnb.hist(edgecolor=\"black\", linewidth=1.2, figsize=(30, 30));"
   ]
  },
  {
   "cell_type": "code",
   "execution_count": null,
   "metadata": {},
   "outputs": [],
   "source": [
    "# Histograma por room type\n",
    "\n",
    "sns.countplot(df_airbnb['room_type'], palette=\"plasma\")\n",
    "fig = plt.gcf()\n",
    "fig.set_size_inches(10,10)\n",
    "plt.title('Room Type');"
   ]
  },
  {
   "cell_type": "code",
   "execution_count": null,
   "metadata": {},
   "outputs": [],
   "source": [
    "# Plot all Neighbourhood\n",
    "sns.countplot(df_airbnb['neighbourhood'], palette=\"plasma\")\n",
    "fig = plt.gcf()\n",
    "fig.set_size_inches(30,10)\n",
    "plt.title('Neighbourhood');"
   ]
  },
  {
   "cell_type": "code",
   "execution_count": null,
   "metadata": {},
   "outputs": [],
   "source": [
    "#Relação entre room type e disponibilidade\n",
    "\n",
    "plt.figure(figsize=(10,10))\n",
    "ax = sns.boxplot(data=df_airbnb, x='room_type',y='availability_365',palette='plasma')"
   ]
  },
  {
   "cell_type": "code",
   "execution_count": null,
   "metadata": {},
   "outputs": [],
   "source": [
    "plt.figure(figsize=(15,6))\n",
    "sns.violinplot(data=df_airbnb[df_airbnb.price < 300], x='room_type', y='price', palette='muted')\n",
    "plt.title('Density and distribution of prices for each room type', fontsize=15)\n",
    "plt.xlabel('Room Type')\n",
    "plt.ylabel(\"Price\");"
   ]
  },
  {
   "cell_type": "markdown",
   "metadata": {},
   "source": [
    "# Mapas"
   ]
  },
  {
   "cell_type": "code",
   "execution_count": null,
   "metadata": {},
   "outputs": [],
   "source": [
    "plt.figure(figsize=(10,6)) \n",
    "sns.scatterplot(df_airbnb.longitude,df_airbnb.latitude,hue=df_airbnb.neighbourhood, legend=False) \n",
    "plt.ioff();"
   ]
  },
  {
   "cell_type": "code",
   "execution_count": null,
   "metadata": {},
   "outputs": [],
   "source": [
    "import folium\n",
    "from folium.plugins import HeatMap\n",
    "m=folium.Map([40.7128,-74.0060],zoom_start=11)\n",
    "HeatMap(df_airbnb[['latitude','longitude']].dropna(),radius=8,gradient={0.2:'blue',0.4:'purple',0.6:'orange',1.0:'red'}).add_to(m)\n",
    "display(m)"
   ]
  },
  {
   "cell_type": "code",
   "execution_count": null,
   "metadata": {},
   "outputs": [],
   "source": [
    "df1=df_airbnb.sort_values(by=['room_type'],ascending=False).head(1000)\n",
    "import folium\n",
    "from folium.plugins import MarkerCluster\n",
    "from folium import plugins\n",
    "print('sample of 1000 rooms')\n",
    "Long=-73.80\n",
    "Lat=40.80\n",
    "mapdf1=folium.Map([Lat,Long],zoom_start=10,)\n",
    "\n",
    "mapdf1_rooms_map=plugins.MarkerCluster().add_to(mapdf1)\n",
    "\n",
    "for lat,lon,label in zip(df1.latitude,df1.longitude,df1.price):\n",
    "    folium.Marker(location=[lat,lon],icon=folium.Icon(icon='home'),popup=label).add_to(mapdf1_rooms_map)\n",
    "mapdf1.add_child(mapdf1_rooms_map)\n",
    "\n",
    "mapdf1"
   ]
  },
  {
   "cell_type": "code",
   "execution_count": null,
   "metadata": {},
   "outputs": [],
   "source": [
    "# Nuvem de palavras\n",
    "plt.subplots(figsize=(25,15))\n",
    "wordcloud = WordCloud(\n",
    "                          background_color='white',\n",
    "                          width=1920,\n",
    "                          height=1080\n",
    "                         ).generate(\" \".join(df_airbnb.neighbourhood))\n",
    "plt.imshow(wordcloud)\n",
    "plt.axis('off')\n",
    "plt.savefig('../../Data/Raw/airbnb/''neighbourhood.png')\n",
    "plt.show()"
   ]
  },
  {
   "cell_type": "markdown",
   "metadata": {},
   "source": [
    "# Correlações"
   ]
  },
  {
   "cell_type": "code",
   "execution_count": null,
   "metadata": {},
   "outputs": [],
   "source": [
    "#Correlação das variáveis método kendall\n",
    "corr = df_airbnb.corr(method='kendall')\n",
    "plt.figure(figsize=(15,8))\n",
    "sns.heatmap(corr, annot=True)\n",
    "df_airbnb.columns;"
   ]
  },
  {
   "cell_type": "code",
   "execution_count": null,
   "metadata": {},
   "outputs": [],
   "source": [
    "#Correlação das variáveis método pearson\n",
    "corr = df_airbnb.corr(method='pearson')\n",
    "plt.figure(figsize=(15,8))\n",
    "sns.heatmap(corr, annot=True)\n",
    "df_airbnb.columns;"
   ]
  },
  {
   "cell_type": "code",
   "execution_count": null,
   "metadata": {},
   "outputs": [],
   "source": [
    "#Correlação das variáveis método spearman\n",
    "corr = df_airbnb.corr(method='spearman')\n",
    "plt.figure(figsize=(15,8))\n",
    "sns.heatmap(corr, annot=True)\n",
    "df_airbnb.columns;    "
   ]
  },
  {
   "cell_type": "code",
   "execution_count": null,
   "metadata": {},
   "outputs": [],
   "source": [
    "plt.figure(figsize=(30, 30))\n",
    "sns.pairplot(df_airbnb, height=3, diag_kind=\"hist\");"
   ]
  },
  {
   "cell_type": "code",
   "execution_count": null,
   "metadata": {},
   "outputs": [],
   "source": [
    "plt.figure(figsize=(30, 30))\n",
    "sns.set(font_scale=1.5)\n",
    "i = 1\n",
    "for column in df_airbnb.columns:\n",
    "    if df_airbnb[column].dtype == \"float64\" or df_airbnb[column].dtype == \"int64\":\n",
    "        plt.subplot(3, 3, i)\n",
    "        df_airbnb.corr()[column].sort_values().plot(kind=\"barh\")\n",
    "        i += 1"
   ]
  },
  {
   "cell_type": "code",
   "execution_count": null,
   "metadata": {},
   "outputs": [],
   "source": [
    "#Correlação com a variável alvo\n",
    "df_airbnb.drop('price', axis=1).corrwith(df_airbnb.price).plot.barh(figsize=(10, 8), \n",
    "                                                        title='Correlation with Target Variable',\n",
    "                                                        fontsize=15, grid=True);"
   ]
  },
  {
   "cell_type": "code",
   "execution_count": null,
   "metadata": {},
   "outputs": [],
   "source": [
    "plt.figure(figsize=(15,12))\n",
    "palette = sns.diverging_palette(20, 220, n=256)\n",
    "corr=df_airbnb.corr(method='pearson')\n",
    "sns.heatmap(corr, annot=True, fmt=\".2f\", cmap=palette, vmax=.3, center=0,\n",
    "            square=True, linewidths=.5, cbar_kws={\"shrink\": .5}).set(ylim=(11, 0))\n",
    "plt.title(\"Correlation Matrix\",size=15, weight='bold');"
   ]
  },
  {
   "cell_type": "code",
   "execution_count": null,
   "metadata": {},
   "outputs": [],
   "source": [
    "plt.figure(figsize=(10,10))\n",
    "sns.distplot(df_airbnb['price'], fit=norm)\n",
    "plt.title(\"Price Distribution Plot\",size=15, weight='bold');"
   ]
  },
  {
   "cell_type": "code",
   "execution_count": null,
   "metadata": {},
   "outputs": [],
   "source": [
    "df_airbnb['price_log'] = np.log(df_airbnb.price+1);"
   ]
  },
  {
   "cell_type": "code",
   "execution_count": null,
   "metadata": {},
   "outputs": [],
   "source": [
    "plt.figure(figsize=(12,10))\n",
    "sns.distplot(df_airbnb['price_log'], fit=norm)\n",
    "plt.title(\"Log-Price Distribution Plot\",size=15, weight='bold');"
   ]
  },
  {
   "cell_type": "code",
   "execution_count": null,
   "metadata": {},
   "outputs": [],
   "source": [
    "plt.figure(figsize=(7,7))\n",
    "stats.probplot(df_airbnb['price_log'], plot=plt)\n",
    "plt.show();"
   ]
  },
  {
   "cell_type": "code",
   "execution_count": null,
   "metadata": {},
   "outputs": [],
   "source": [
    "airbnb_num = df_airbnb.drop(['latitude','longitude','host_id','neighbourhood','room_type'], axis = 1)\n"
   ]
  },
  {
   "cell_type": "code",
   "execution_count": null,
   "metadata": {},
   "outputs": [],
   "source": [
    "print(np.mean(airbnb_num))"
   ]
  },
  {
   "cell_type": "code",
   "execution_count": 230,
   "metadata": {},
   "outputs": [
    {
     "data": {
      "image/png": "[encoded data removed]",
      "text/plain": [
       "<Figure size 432x288 with 1 Axes>"
      ]
     },
     "metadata": {},
     "output_type": "display_data"
    }
   ],
   "source": [
    "sns.distplot(np.array(airbnb_num).reshape(-1))\n",
    "plt.show()"
   ]
  },
  {
   "cell_type": "code",
   "execution_count": 231,
   "metadata": {},
   "outputs": [],
   "source": [
    "normalizer = pp.Normalizer().fit(airbnb_num)"
   ]
  },
  {
   "cell_type": "code",
   "execution_count": 232,
   "metadata": {},
   "outputs": [
    {
     "name": "stdout",
     "output_type": "stream",
     "text": [
      "[[3.68220153e-01 8.49738816e-03 7.02450754e-01 6.37304112e-03\n",
      "  2.83246272e-03 6.08979484e-01]\n",
      " [2.09725603e-01 8.98824013e-02 7.49020011e-02 6.59137609e-04\n",
      "  2.99608004e-03 9.70729934e-01]\n",
      " [9.99821474e-01 1.42831639e-02 7.14158196e-03 7.14158196e-05\n",
      "  7.14158196e-03 7.14158196e-03]\n",
      " ...\n",
      " [3.42679733e-01 5.90827125e-03 0.00000000e+00 0.00000000e+00\n",
      "  5.90827125e-03 9.39415129e-01]\n",
      " [2.53004703e-01 5.62232674e-03 0.00000000e+00 0.00000000e+00\n",
      "  2.81116337e-02 9.67040199e-01]\n",
      " [3.70377886e-01 5.69812133e-03 0.00000000e+00 0.00000000e+00\n",
      "  1.13962427e-02 9.28793776e-01]]\n"
     ]
    }
   ],
   "source": [
    "norm1 = normalizer.transform(airbnb_num)\n",
    "print(norm1)"
   ]
  },
  {
   "cell_type": "code",
   "execution_count": 233,
   "metadata": {},
   "outputs": [
    {
     "name": "stdout",
     "output_type": "stream",
     "text": [
      "0.22718393559037872\n"
     ]
    }
   ],
   "source": [
    "print(np.mean(norm1))"
   ]
  },
  {
   "cell_type": "code",
   "execution_count": 234,
   "metadata": {},
   "outputs": [
    {
     "data": {
      "image/png": "[encoded data removed]",
      "text/plain": [
       "<Figure size 432x288 with 1 Axes>"
      ]
     },
     "metadata": {},
     "output_type": "display_data"
    }
   ],
   "source": [
    "sns.distplot(np.array(norm1).reshape(-1))\n",
    "plt.show()"
   ]
  },
  {
   "cell_type": "code",
   "execution_count": 239,
   "metadata": {},
   "outputs": [],
   "source": [
    "MinMaxScaler = pp.MinMaxScaler().fit(airbnb_num)"
   ]
  },
  {
   "cell_type": "code",
   "execution_count": 240,
   "metadata": {},
   "outputs": [
    {
     "name": "stdout",
     "output_type": "stream",
     "text": [
      "[[1.20120120e-02 4.00801603e-03 3.94276630e-01 1.07449857e-01\n",
      "  0.00000000e+00 5.89041096e-01]\n",
      " [6.00600601e-03 5.81162325e-02 3.97456280e-02 1.05062082e-02\n",
      "  0.00000000e+00 8.87671233e-01]\n",
      " [1.30130130e-02 2.00400802e-03 1.58982512e-03 4.77554919e-04\n",
      "  0.00000000e+00 2.73972603e-03]\n",
      " ...\n",
      " [4.80480480e-03 0.00000000e+00 0.00000000e+00 0.00000000e+00\n",
      "  0.00000000e+00 4.35616438e-01]\n",
      " [3.50350350e-03 0.00000000e+00 0.00000000e+00 0.00000000e+00\n",
      "  3.92156863e-02 4.71232877e-01]\n",
      " [5.50550551e-03 0.00000000e+00 0.00000000e+00 0.00000000e+00\n",
      "  9.80392157e-03 4.46575342e-01]]\n"
     ]
    }
   ],
   "source": [
    "minmax = MinMaxScaler.transform(airbnb_num)\n",
    "print(minmax)"
   ]
  },
  {
   "cell_type": "code",
   "execution_count": 241,
   "metadata": {},
   "outputs": [
    {
     "name": "stdout",
     "output_type": "stream",
     "text": [
      "0.09366261329005345\n"
     ]
    }
   ],
   "source": [
    "print(np.mean(minmax))"
   ]
  },
  {
   "cell_type": "code",
   "execution_count": 242,
   "metadata": {},
   "outputs": [
    {
     "data": {
      "image/png": "[encoded data removed]",
      "text/plain": [
       "<Figure size 432x288 with 1 Axes>"
      ]
     },
     "metadata": {},
     "output_type": "display_data"
    }
   ],
   "source": [
    "sns.distplot(np.array(minmax).reshape(-1))\n",
    "plt.show()"
   ]
  },
  {
   "cell_type": "code",
   "execution_count": 243,
   "metadata": {},
   "outputs": [],
   "source": [
    "StandardScaler = pp.StandardScaler().fit(airbnb_num)"
   ]
  },
  {
   "cell_type": "code",
   "execution_count": 244,
   "metadata": {},
   "outputs": [
    {
     "name": "stdout",
     "output_type": "stream",
     "text": [
      "[[ 0.18243356 -0.14516372  4.2405064   0.32053668 -0.24591827  0.52054846]\n",
      " [-0.17665993  1.65155443 -0.0519779  -0.63226191 -0.24591827  1.32481841]\n",
      " [ 0.24228248 -0.21170884 -0.5139493  -0.73082728 -0.24591827 -1.05847693]\n",
      " ...\n",
      " [-0.24847862 -0.27825395 -0.53319811 -0.73552087 -0.24591827  0.10734556]\n",
      " [-0.32628221 -0.27825395 -0.53319811 -0.73552087  0.07552424  0.20326766]\n",
      " [-0.20658438 -0.27825395 -0.53319811 -0.73552087 -0.16555764  0.13686005]]\n"
     ]
    }
   ],
   "source": [
    "stand = StandardScaler.transform(airbnb_num)\n",
    "print(stand)"
   ]
  },
  {
   "cell_type": "code",
   "execution_count": 245,
   "metadata": {},
   "outputs": [
    {
     "name": "stdout",
     "output_type": "stream",
     "text": [
      "7.524278882034241e-18\n"
     ]
    }
   ],
   "source": [
    "print(np.mean(stand))"
   ]
  },
  {
   "cell_type": "code",
   "execution_count": 246,
   "metadata": {},
   "outputs": [
    {
     "data": {
      "image/png": "[encoded data removed]",
      "text/plain": [
       "<Figure size 432x288 with 1 Axes>"
      ]
     },
     "metadata": {},
     "output_type": "display_data"
    }
   ],
   "source": [
    "sns.distplot(np.array(stand).reshape(-1))\n",
    "plt.show()"
   ]
  },
  {
   "cell_type": "code",
   "execution_count": null,
   "metadata": {},
   "outputs": [],
   "source": []
  }
 ],
 "metadata": {
  "kernelspec": {
   "display_name": "Python 3",
   "language": "python",
   "name": "python3"
  },
  "language_info": {
   "codemirror_mode": {
    "name": "ipython",
    "version": 3
   },
   "file_extension": ".py",
   "mimetype": "text/x-python",
   "name": "python",
   "nbconvert_exporter": "python",
   "pygments_lexer": "ipython3",
   "version": "3.7.7"
  }
 },
 "nbformat": 4,
 "nbformat_minor": 4
}
